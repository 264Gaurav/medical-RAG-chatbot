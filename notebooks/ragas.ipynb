{
 "cells": [
  {
   "cell_type": "code",
   "execution_count": 1,
   "id": "a1b9ebcd",
   "metadata": {},
   "outputs": [],
   "source": [
    "# going at root folder\n",
    "import os\n",
    "os.chdir('../')\n",
    "# %pwd"
   ]
  },
  {
   "cell_type": "markdown",
   "id": "a0e7c9a1",
   "metadata": {},
   "source": [
    "## Langsmith setup"
   ]
  },
  {
   "cell_type": "code",
   "execution_count": 2,
   "id": "f481d6db",
   "metadata": {},
   "outputs": [
    {
     "name": "stdout",
     "output_type": "stream",
     "text": [
      "LangSmith endpoint: https://api.smith.langchain.com\n",
      "Tracing enabled: true\n"
     ]
    }
   ],
   "source": [
    "## Langsmith setup\n",
    "from dotenv import load_dotenv\n",
    "\n",
    "# Load variables from .env into environment\n",
    "load_dotenv()\n",
    "\n",
    "# Access them\n",
    "api_key = os.getenv(\"LANGCHAIN_API_KEY\")\n",
    "endpoint = os.getenv(\"LANGCHAIN_ENDPOINT\")\n",
    "tracing = os.getenv(\"LANGSMITH_TRACING\")\n",
    "\n",
    "print(\"LangSmith endpoint:\", endpoint)\n",
    "print(\"Tracing enabled:\", tracing)"
   ]
  },
  {
   "cell_type": "markdown",
   "id": "a72d3783",
   "metadata": {},
   "source": [
    "### Data Loading "
   ]
  },
  {
   "cell_type": "code",
   "execution_count": 3,
   "id": "65d8e07b",
   "metadata": {},
   "outputs": [],
   "source": [
    "import mlflow\n",
    "import time\n",
    "import json\n",
    "import dagshub\n",
    "from langchain.document_loaders import PyPDFLoader, DirectoryLoader\n",
    "from langchain.text_splitter import RecursiveCharacterTextSplitter\n",
    "\n",
    "chunk_size = 500\n",
    "chunk_overlap = 100\n",
    "\n",
    "#extract text from pdf files   #load all the pdf files from data folder\n",
    "def load_pdf_files(data):\n",
    "    loader = DirectoryLoader(\n",
    "        data,\n",
    "        glob=\"*.pdf\",\n",
    "        loader_cls=PyPDFLoader\n",
    "    )\n",
    "    return loader.load()"
   ]
  },
  {
   "cell_type": "code",
   "execution_count": 4,
   "id": "293addeb",
   "metadata": {},
   "outputs": [
    {
     "data": {
      "text/html": [
       "<pre style=\"white-space:pre;overflow-x:auto;line-height:normal;font-family:Menlo,'DejaVu Sans Mono',consolas,'Courier New',monospace\">Accessing as 264Gaurav\n",
       "</pre>\n"
      ],
      "text/plain": [
       "Accessing as 264Gaurav\n"
      ]
     },
     "metadata": {},
     "output_type": "display_data"
    },
    {
     "data": {
      "text/html": [
       "<pre style=\"white-space:pre;overflow-x:auto;line-height:normal;font-family:Menlo,'DejaVu Sans Mono',consolas,'Courier New',monospace\">Initialized MLflow to track repo <span style=\"color: #008000; text-decoration-color: #008000\">\"264Gaurav/medical-chatbot\"</span>\n",
       "</pre>\n"
      ],
      "text/plain": [
       "Initialized MLflow to track repo \u001b[32m\"264Gaurav/medical-chatbot\"\u001b[0m\n"
      ]
     },
     "metadata": {},
     "output_type": "display_data"
    },
    {
     "data": {
      "text/html": [
       "<pre style=\"white-space:pre;overflow-x:auto;line-height:normal;font-family:Menlo,'DejaVu Sans Mono',consolas,'Courier New',monospace\">Repository 264Gaurav/medical-chatbot initialized!\n",
       "</pre>\n"
      ],
      "text/plain": [
       "Repository 264Gaurav/medical-chatbot initialized!\n"
      ]
     },
     "metadata": {},
     "output_type": "display_data"
    },
    {
     "name": "stdout",
     "output_type": "stream",
     "text": [
      "MLflow Run ID: fc3ecbe0b980420c80d8c38f717e8717\n",
      "MLflow Run ID: fc3ecbe0b980420c80d8c38f717e8717\n",
      "Loaded 637 documents in 8.45 seconds.\n",
      "MLflow run finished. View at https://dagshub.com/264Gaurav/medical-chatbot.mlflow\n",
      "🏃 View run flawless-crow-691 at: https://dagshub.com/264Gaurav/medical-chatbot.mlflow/#/experiments/1/runs/fc3ecbe0b980420c80d8c38f717e8717\n",
      "🧪 View experiment at: https://dagshub.com/264Gaurav/medical-chatbot.mlflow/#/experiments/1\n"
     ]
    }
   ],
   "source": [
    "#mlflow.set_tracking_uri(\"http://127.0.0.1:5000\")\n",
    "dagshub.init(repo_owner='264Gaurav', repo_name='medical-chatbot', mlflow=True)\n",
    "\n",
    "# Set the experiment name\n",
    "mlflow.set_experiment(\"RAG_ragas\")\n",
    "\n",
    "# Start an MLflow run to log this execution\n",
    "with mlflow.start_run() as run:\n",
    "    run_id = run.info.run_id\n",
    "    print(f\"MLflow Run ID: {run_id}\")\n",
    "\n",
    "    data_dir = 'data' # This is the path to your data directory\n",
    "    mlflow.log_param(\"data_directory\", data_dir)\n",
    "    mlflow.log_param(\"pdf_loader_class\", \"PyPDFLoader\")\n",
    "\n",
    "    start_time = time.time()\n",
    "    extracted_data = load_pdf_files(data_dir) # extracted_data will be a list of Document objects\n",
    "    end_time = time.time()\n",
    "    loading_duration = end_time - start_time\n",
    "\n",
    "    mlflow.log_metric(\"num_documents_loaded\", len(extracted_data))\n",
    "    mlflow.log_metric(\"pdf_loading_duration_seconds\", loading_duration)\n",
    "\n",
    "    # Log the number of documents loaded - CORRECTED\n",
    "    # 'extracted_data' is the list of loaded documents, so its length gives the number of documents\n",
    "    num_documents = len(extracted_data)\n",
    "    mlflow.log_param(\"num_documents\", num_documents)\n",
    "\n",
    "\n",
    "\n",
    "    print(f\"MLflow Run ID: {run_id}\")\n",
    "    print(f\"Loaded {num_documents} documents in {loading_duration:.2f} seconds.\")\n",
    "    print(f\"MLflow run finished. View at {mlflow.get_tracking_uri()}\")\n",
    "\n",
    "\n"
   ]
  },
  {
   "cell_type": "markdown",
   "id": "18ec89be",
   "metadata": {},
   "source": [
    "### Filtering of Loaded DATA (i.e., extracted_data)"
   ]
  },
  {
   "cell_type": "code",
   "execution_count": 5,
   "id": "f3019aec",
   "metadata": {},
   "outputs": [],
   "source": [
    "from typing import List\n",
    "from langchain.schema import Document\n",
    "\n",
    "##DATA cleaning and filtering\n",
    "def filter_docs(docs: List[Document]) -> List[Document]:\n",
    "    \"\"\"\n",
    "    Given a list of Document objects, filter out those with new list of Document objects\n",
    "    containing only 'source' and 'page' in metadata and the original page_content.\n",
    "\n",
    "    MLflow Tracking:\n",
    "    - Logs 'input_documents_count' as a metric.\n",
    "    - Logs 'output_documents_count' as a metric.\n",
    "    - Logs 'documents_filtered_count' as a metric.\n",
    "    - Logs 'filter_function_name' as a parameter.\n",
    "    \"\"\"\n",
    "\n",
    "\n",
    "\n",
    "    # Log initial state\n",
    "    input_documents_count = len(docs)\n",
    "    mlflow.log_metric(\"input_documents_count_for_filtering\", input_documents_count)\n",
    "    mlflow.log_param(\"filter_function_name\", \"filter_docs\")\n",
    "\n",
    "    minimal_docs: List[Document] = []\n",
    "\n",
    "    for doc in docs:\n",
    "        src = doc.metadata.get('source')\n",
    "        page = doc.metadata.get('page')\n",
    "        # Here, you might add more complex filtering logic if needed\n",
    "        # For this specific function, it always adds the document, just with minimal metadata\n",
    "        minimal_docs.append(\n",
    "            Document(\n",
    "                page_content=doc.page_content,\n",
    "                metadata={\"source\": src , \"page\":page}\n",
    "            )\n",
    "        )\n",
    "\n",
    "    output_documents_count = len(minimal_docs)\n",
    "    documents_filtered_count = input_documents_count - output_documents_count # Will be 0 if all are kept\n",
    "\n",
    "    # Log metrics after processing\n",
    "    mlflow.log_metric(\"output_documents_count_after_filtering\", output_documents_count)\n",
    "    mlflow.log_metric(\"documents_filtered_count\", documents_filtered_count)\n",
    "\n",
    "    # Optional: Log a sample of filtered documents as an artifact\n",
    "    if minimal_docs:\n",
    "        sample_docs_path = \"filtered_docs_sample.json\"\n",
    "        # Log metadata from first few documents as a sample\n",
    "        sample_data = []\n",
    "        for i, doc in enumerate(minimal_docs[:5]): # Log first 5 documents\n",
    "            sample_data.append({\n",
    "                \"page_content_preview\": doc.page_content[:200] + \"...\",\n",
    "                \"metadata\": doc.metadata\n",
    "            })\n",
    "        with open(sample_docs_path, \"w\") as f:\n",
    "            json.dump(sample_data, f, indent=4)\n",
    "        mlflow.log_artifact(sample_docs_path, artifact_path=\"data_filtering_artifacts\")\n",
    "        os.remove(sample_docs_path) # Clean up local file\n",
    "\n",
    "    return minimal_docs\n",
    "\n",
    "\n",
    "minimal_docs = filter_docs(extracted_data) ## function calling here for filtering of extracted_docs"
   ]
  },
  {
   "cell_type": "markdown",
   "id": "917d336a",
   "metadata": {},
   "source": [
    "### Split the Filtered Docs (minimal_docs) into smaller chunks"
   ]
  },
  {
   "cell_type": "code",
   "execution_count": 6,
   "id": "728e77df",
   "metadata": {},
   "outputs": [
    {
     "name": "stdout",
     "output_type": "stream",
     "text": [
      "Number of text chunks: 6600\n"
     ]
    },
    {
     "name": "stderr",
     "output_type": "stream",
     "text": [
      "/var/folders/38/7jcjyd5s1cd09qhrzns_rny80000gn/T/ipykernel_28663/4157002724.py:27: PydanticDeprecatedSince20: The `dict` method is deprecated; use `model_dump` instead. Deprecated in Pydantic V2.0 to be removed in V3.0. See Pydantic V2 Migration Guide at https://errors.pydantic.dev/2.11/migration/\n",
      "  json.dump([chunk.dict() for chunk in chunks[:5]], f, indent=4) # Log first 5 chunks\n"
     ]
    }
   ],
   "source": [
    "## split the documents into smaller chunks\n",
    "def text_split(minimal_docs):\n",
    "    text_splitter = RecursiveCharacterTextSplitter(\n",
    "        chunk_size=chunk_size,\n",
    "        chunk_overlap=chunk_overlap\n",
    "    )\n",
    "    return text_splitter.split_documents(minimal_docs)\n",
    "\n",
    "\n",
    "chunks = text_split(minimal_docs)\n",
    "print(f\"Number of text chunks: {len(chunks)}\")\n",
    "\n",
    "\n",
    "# Log the number of chunks created\n",
    "num_chunks = len(chunks)\n",
    "mlflow.log_metric(\"num_chunks_created\", num_chunks) # Changed to metric as it's an output count\n",
    "\n",
    "# Log text splitter parameters\n",
    "mlflow.log_param(\"chunk_size\", chunk_size)\n",
    "mlflow.log_param(\"chunk_overlap\", chunk_overlap)\n",
    "mlflow.log_param(\"text_splitter_class\", \"RecursiveCharacterTextSplitter\")\n",
    "\n",
    "# Optional: Log a sample of the first few chunks as an artifact\n",
    "if chunks:\n",
    "    chunks_sample_path = \"chunks_sample.json\"\n",
    "    with open(chunks_sample_path, \"w\") as f:\n",
    "        json.dump([chunk.dict() for chunk in chunks[:5]], f, indent=4) # Log first 5 chunks\n",
    "    mlflow.log_artifact(chunks_sample_path, artifact_path=\"data_processing_artifacts\")\n",
    "    os.remove(chunks_sample_path) # Clean up local file\n"
   ]
  },
  {
   "cell_type": "markdown",
   "id": "3ebe0435",
   "metadata": {},
   "source": [
    "### Embedding model setup"
   ]
  },
  {
   "cell_type": "code",
   "execution_count": 7,
   "id": "788ef0b9",
   "metadata": {},
   "outputs": [
    {
     "name": "stdout",
     "output_type": "stream",
     "text": [
      "Connected to Ollama embedding model 'nomic-embed-text:latest' at http://localhost:11434 (init 0.03s).\n"
     ]
    }
   ],
   "source": [
    "import time\n",
    "import mlflow\n",
    "\n",
    "# Use the LangChain Ollama embedding class\n",
    "# If your LangChain installation exposes it under a different module, see the note below.\n",
    "from langchain_ollama.embeddings import OllamaEmbeddings\n",
    "\n",
    "\n",
    "def download_embeddings(\n",
    "    model_name: str = \"nomic-embed-text:latest\",\n",
    "    base_url: str = \"http://localhost:11434\",\n",
    "):\n",
    "    \"\"\"\n",
    "    Connects to the locally-running Ollama instance and returns an OllamaEmbeddings object\n",
    "    using the specified embedding model (nomic-embed-text:latest by default).\n",
    "    \"\"\"\n",
    "\n",
    "    # Log embedding model parameters\n",
    "    mlflow.log_param(\"embedding_model_name\", model_name)\n",
    "    mlflow.log_param(\"embedding_provider\", \"Ollama\")\n",
    "    mlflow.log_param(\"embedding_class\", \"OllamaEmbeddings\")\n",
    "    mlflow.log_param(\"ollama_base_url\", base_url)\n",
    "\n",
    "    start_time = time.time()\n",
    "    # Create the LangChain wrapper for Ollama embeddings\n",
    "    embeddings = OllamaEmbeddings(model=model_name, base_url=base_url)\n",
    "    end_time = time.time()\n",
    "    loading_duration = end_time - start_time\n",
    "\n",
    "    # Log metrics\n",
    "    mlflow.log_metric(\"embedding_loading_duration_seconds\", loading_duration)\n",
    "\n",
    "    print(f\"Connected to Ollama embedding model '{model_name}' at {base_url} (init {loading_duration:.2f}s).\")\n",
    "\n",
    "    return embeddings\n",
    "\n",
    "\n",
    "\n",
    "embedding = download_embeddings()\n",
    "## example: embedding.embed_documents([\"hello world\", \"another doc\"])\n"
   ]
  },
  {
   "cell_type": "code",
   "execution_count": 8,
   "id": "a1c756ee",
   "metadata": {},
   "outputs": [
    {
     "name": "stdout",
     "output_type": "stream",
     "text": [
      "Vector length: 768\n"
     ]
    },
    {
     "data": {
      "text/plain": [
       "768"
      ]
     },
     "execution_count": 8,
     "metadata": {},
     "output_type": "execute_result"
    }
   ],
   "source": [
    "vector = embedding.embed_query(\"Hello to medical chatbot.\")\n",
    "\n",
    "vector_dim = len(vector);\n",
    "print(f\"Vector length: {vector_dim}\")  # Check the length of the vector  ## Dimentions of the vector\n",
    "\n",
    "mlflow.log_param(\"vector_embedding_size\", vector_dim)\n"
   ]
  },
  {
   "cell_type": "markdown",
   "id": "1c2382d6",
   "metadata": {},
   "source": [
    "### Vector DB setup"
   ]
  },
  {
   "cell_type": "code",
   "execution_count": 9,
   "id": "7bc61ddc",
   "metadata": {},
   "outputs": [
    {
     "data": {
      "text/plain": [
       "<pinecone.pinecone.Pinecone at 0x171d772f0>"
      ]
     },
     "execution_count": 9,
     "metadata": {},
     "output_type": "execute_result"
    }
   ],
   "source": [
    "## Pinecone is the leading vector database for building accurate and performant AI applications\n",
    "from pinecone import Pinecone\n",
    "\n",
    "\n",
    "PINECONE_API_KEY = os.getenv(\"PINECONE_API_KEY\")\n",
    "os.environ[\"PINECONE_API_KEY\"] = PINECONE_API_KEY\n",
    "pinecone_api = PINECONE_API_KEY\n",
    "\n",
    "pc = Pinecone(api_key=pinecone_api)\n",
    "pc"
   ]
  },
  {
   "cell_type": "code",
   "execution_count": 10,
   "id": "bbeada41",
   "metadata": {},
   "outputs": [
    {
     "name": "stdout",
     "output_type": "stream",
     "text": [
      "Pinecone index 'medical-chatbot' already exists. Connecting...\n"
     ]
    },
    {
     "name": "stderr",
     "output_type": "stream",
     "text": [
      "/opt/anaconda3/envs/medical/lib/python3.12/site-packages/tqdm/auto.py:21: TqdmWarning: IProgress not found. Please update jupyter and ipywidgets. See https://ipywidgets.readthedocs.io/en/stable/user_install.html\n",
      "  from .autonotebook import tqdm as notebook_tqdm\n"
     ]
    },
    {
     "name": "stdout",
     "output_type": "stream",
     "text": [
      "Connected to Pinecone index 'medical-chatbot' in 0.8157 seconds.\n"
     ]
    }
   ],
   "source": [
    "from pinecone import Pinecone, ServerlessSpec\n",
    "\n",
    "\n",
    "# Log stage name\n",
    "mlflow.log_param(\"stage\", \"pinecone_index_setup\")\n",
    "\n",
    "index_name = 'medical-chatbot'\n",
    "dimension = vector_dim  # Dimension of the embeddings (should match your embedding model output)\n",
    "metric = 'cosine' # Similarity metric\n",
    "\n",
    "# Log Pinecone index parameters\n",
    "mlflow.log_param(\"pinecone_index_name\", index_name)\n",
    "mlflow.log_param(\"pinecone_index_dimension\", dimension)\n",
    "mlflow.log_param(\"pinecone_index_metric\", metric)\n",
    "\n",
    "# Define the serverless spec parameters\n",
    "cloud_provider = \"aws\"\n",
    "region = \"us-east-1\"\n",
    "mlflow.log_param(\"pinecone_cloud_provider\", cloud_provider)\n",
    "mlflow.log_param(\"pinecone_region\", region)\n",
    "\n",
    "\n",
    "# Check if index exists and create if not\n",
    "start_check_time = time.time()\n",
    "index_exists = pc.has_index(index_name)\n",
    "end_check_time = time.time()\n",
    "check_duration = end_check_time - start_check_time\n",
    "\n",
    "mlflow.log_metric(\"pinecone_index_exists_check_duration_seconds\", check_duration)\n",
    "mlflow.log_param(\"pinecone_index_existed_before_run\", index_exists)\n",
    "\n",
    "if not index_exists:\n",
    "    mlflow.log_param(\"pinecone_index_action\", \"created_new_index\")\n",
    "    print(f\"Pinecone index '{index_name}' does not exist. Creating...\")\n",
    "    start_create_time = time.time()\n",
    "    pc.create_index(\n",
    "        name=index_name,\n",
    "        dimension=dimension,\n",
    "        metric=metric,\n",
    "        spec=ServerlessSpec(cloud=cloud_provider, region=region)\n",
    "    )\n",
    "    end_create_time = time.time()\n",
    "    creation_duration = end_create_time - start_create_time\n",
    "    mlflow.log_metric(\"pinecone_index_creation_duration_seconds\", creation_duration)\n",
    "    print(f\"Pinecone index '{index_name}' created in {creation_duration:.2f} seconds.\")\n",
    "else:\n",
    "    mlflow.log_param(\"pinecone_index_action\", \"connected_to_existing_index\")\n",
    "    print(f\"Pinecone index '{index_name}' already exists. Connecting...\")\n",
    "    mlflow.log_metric(\"pinecone_index_creation_duration_seconds\", 0) # Log 0 if not created\n",
    "\n",
    "# Connect to the index\n",
    "start_connect_time = time.time()\n",
    "index = pc.Index(index_name)\n",
    "end_connect_time = time.time()\n",
    "connect_duration = end_connect_time - start_connect_time\n",
    "\n",
    "mlflow.log_metric(\"pinecone_index_connection_duration_seconds\", connect_duration)\n",
    "print(f\"Connected to Pinecone index '{index_name}' in {connect_duration:.4f} seconds.\")\n",
    "\n",
    "# Optional: Log some basic info about the connected index (e.g., number of vectors)\n",
    "# This might require querying the index, which adds time, so consider if needed for every run.\n",
    "try:\n",
    "    index_info = index.describe_index_stats()\n",
    "    mlflow.log_metric(\"pinecone_total_vector_count\", index_info.dimension) # This gives dimension, not vector count directly\n",
    "    # To get actual vector count:\n",
    "    if index_info.namespaces:\n",
    "        total_vectors_in_index = sum(ns.vector_count for ns_name, ns in index_info.namespaces.items())\n",
    "        mlflow.log_metric(\"pinecone_total_vectors_in_index\", total_vectors_in_index)\n",
    "        mlflow.log_param(\"pinecone_namespaces\", list(index_info.namespaces.keys()))\n",
    "except Exception as e:\n",
    "    print(f\"Could not get Pinecone index stats: {e}\")\n",
    "    mlflow.log_param(\"pinecone_index_stats_error\", str(e))\n"
   ]
  },
  {
   "cell_type": "markdown",
   "id": "f970fc6e",
   "metadata": {},
   "source": [
    "### Injection of filtered and chunked data (i.e., chunks) into Pinecone vector DB"
   ]
  },
  {
   "cell_type": "code",
   "execution_count": 11,
   "id": "5c09652e",
   "metadata": {},
   "outputs": [],
   "source": [
    "from langchain_pinecone import PineconeVectorStore\n",
    "\n",
    "def upsert_to_pinecone(chunks, embedding, index_name, batch_size: int = 50):\n",
    "    \"\"\"\n",
    "    Upserts documents to a Pinecone index in safe batches (<4MB per request).\n",
    "    Logs metadata and timing with MLflow.\n",
    "    \"\"\"\n",
    "    # Log input parameters\n",
    "    mlflow.log_param(\"vector_store_type\", \"PineconeVectorStore\")\n",
    "    mlflow.log_param(\"index_name_for_upsertion\", index_name)\n",
    "    mlflow.log_param(\"num_text_chunks_for_upsertion\", len(chunks))\n",
    "    mlflow.log_param(\"batch_size for pinecone data injection\", batch_size)\n",
    "    if hasattr(embedding, \"model\"):\n",
    "        mlflow.log_param(\"embedding_model_used_for_upsertion\", getattr(embedding, \"model\", \"unknown\"))\n",
    "\n",
    "    print(f\"Starting batched upsertion to Pinecone index '{index_name}' with {len(chunks)} chunks...\")\n",
    "\n",
    "    start_time = time.time()\n",
    "\n",
    "    # Upsert in batches to avoid Pinecone 4MB limit\n",
    "    for i in range(0, len(chunks), batch_size):\n",
    "        batch = chunks[i : i + batch_size]\n",
    "        PineconeVectorStore.from_documents(\n",
    "            documents=batch,\n",
    "            embedding=embedding,\n",
    "            index_name=index_name\n",
    "        )\n",
    "        print(f\"  Upserted batch {i // batch_size + 1} ({len(batch)} chunks).\")\n",
    "\n",
    "    end_time = time.time()\n",
    "    upsertion_duration = end_time - start_time\n",
    "\n",
    "    # Log metrics\n",
    "    mlflow.log_metric(\"pinecone_upsertion_duration_seconds\", upsertion_duration)\n",
    "\n",
    "    print(f\"✅ Upsertion to Pinecone completed in {upsertion_duration:.2f} seconds.\")\n",
    "\n",
    "\n",
    "\n",
    "# upsert_to_pinecone(chunks=chunks,  embedding=embedding, index_name=index_name, batch_size= 500)  ## uncomment only when you want to insert the data in pinecode DB (i.e., if data in DB not injected before)\n",
    "\n"
   ]
  },
  {
   "cell_type": "markdown",
   "id": "bf8657ca",
   "metadata": {},
   "source": [
    "### Retriever"
   ]
  },
  {
   "cell_type": "code",
   "execution_count": 12,
   "id": "c495022b",
   "metadata": {},
   "outputs": [
    {
     "name": "stdout",
     "output_type": "stream",
     "text": [
      "Retrieved 8 documents for 'What is Cancer?' in 4.0153 seconds.\n"
     ]
    }
   ],
   "source": [
    "# Load Existing index\n",
    "\n",
    "from langchain_pinecone import PineconeVectorStore\n",
    "# Embed each chunk and upsert the embeddings into your Pinecone index.\n",
    "docsearch = PineconeVectorStore.from_existing_index(\n",
    "    index_name=index_name,\n",
    "    embedding=embedding\n",
    ")\n",
    "\n",
    "# Define parameters for retrieval\n",
    "retrieval_search_type = \"similarity\"\n",
    "retrieval_k = 8\n",
    "test_query = \"What is Cancer?\"\n",
    "\n",
    "# 1. Log Retrieval Parameters\n",
    "mlflow.log_param(\"retriever_search_type\", retrieval_search_type)\n",
    "mlflow.log_param(\"retriever_k_value\", retrieval_k)\n",
    "mlflow.log_param(\"retrieval_query\", test_query) # Log the specific query used\n",
    "\n",
    "# Configure the retriever\n",
    "retriever = docsearch.as_retriever(search_type=retrieval_search_type, search_kwargs={\"k\": retrieval_k})\n",
    "\n",
    "# 2. Measure and Log Retrieval Time on Test Query\n",
    "start_time = time.time()\n",
    "retrieved_docs = retriever.invoke(test_query) ## Retriever invoked\n",
    "end_time = time.time()\n",
    "retrieval_duration = end_time - start_time\n",
    "mlflow.log_metric(\"retrieval_duration_seconds\", retrieval_duration)\n",
    "\n",
    "# 3. Log Retrieved Document Count\n",
    "num_retrieved = len(retrieved_docs)\n",
    "mlflow.log_metric(\"num_retrieved_documents\", num_retrieved)\n",
    "\n",
    "\n",
    "# 4. Log a Sample of Retrieved Documents as an Artifact\n",
    "if retrieved_docs:\n",
    "    sample_docs = []\n",
    "    # Log details of the first 3 documents as a sample\n",
    "    for i, doc in enumerate(retrieved_docs[:3]):\n",
    "        sample_docs.append({\n",
    "            \"index\": i + 1,\n",
    "            \"source\": doc.metadata.get('source', 'N/A'),\n",
    "            \"page\": doc.metadata.get('page', 'N/A'),\n",
    "            \"content_preview\": doc.page_content[:200] + \"...\" # Log first 200 chars\n",
    "        })\n",
    "\n",
    "    temp_file_path = \"retrieved_docs_sample.json\"\n",
    "    with open(temp_file_path, \"w\") as f:\n",
    "        json.dump(sample_docs, f, indent=4)\n",
    "\n",
    "    mlflow.log_artifact(temp_file_path, artifact_path=\"retrieval_output_samples\")\n",
    "    os.remove(temp_file_path) # Clean up the local temporary file\n",
    "\n",
    "print(f\"Retrieved {num_retrieved} documents for '{test_query}' in {retrieval_duration:.4f} seconds.\")\n"
   ]
  },
  {
   "cell_type": "markdown",
   "id": "b9601bbc",
   "metadata": {},
   "source": [
    "## LLM Model setup "
   ]
  },
  {
   "cell_type": "code",
   "execution_count": 13,
   "id": "b2d6f94d",
   "metadata": {},
   "outputs": [
    {
     "name": "stdout",
     "output_type": "stream",
     "text": [
      "Initializing Ollama model: llama3.1:latest...\n"
     ]
    },
    {
     "name": "stderr",
     "output_type": "stream",
     "text": [
      "/var/folders/38/7jcjyd5s1cd09qhrzns_rny80000gn/T/ipykernel_28663/632503613.py:21: LangChainDeprecationWarning: The class `Ollama` was deprecated in LangChain 0.3.1 and will be removed in 1.0.0. An updated version of the class exists in the :class:`~langchain-ollama package and should be used instead. To use it run `pip install -U :class:`~langchain-ollama` and import as `from :class:`~langchain_ollama import OllamaLLM``.\n",
      "  chatModel = Ollama(\n"
     ]
    },
    {
     "name": "stdout",
     "output_type": "stream",
     "text": [
      "Ollama model 'llama3.1:latest' initialized in 0.0015 seconds.\n"
     ]
    }
   ],
   "source": [
    "from langchain_community.llms import Ollama  # wrapper for local Ollama models\n",
    "\n",
    "\n",
    "# Define LLM parameters\n",
    "llm_model_name = \"llama3.1:latest\"\n",
    "llm_temperature = 0\n",
    "llm_timeout = None\n",
    "llm_max_retries = 2\n",
    "\n",
    "# Log LLM parameters\n",
    "mlflow.log_param(\"llm_provider\", \"Ollama\")\n",
    "mlflow.log_param(\"llm_class\", \"Ollama\")\n",
    "mlflow.log_param(\"llm_model_name\", llm_model_name)\n",
    "mlflow.log_param(\"llm_temperature\", llm_temperature)\n",
    "mlflow.log_param(\"llm_timeout\", llm_timeout if llm_timeout is not None else \"None\")\n",
    "mlflow.log_param(\"llm_max_retries\", llm_max_retries)\n",
    "\n",
    "\n",
    "print(f\"Initializing Ollama model: {llm_model_name}...\")\n",
    "start_time = time.time()\n",
    "chatModel = Ollama(\n",
    "    model=llm_model_name,\n",
    "    temperature=llm_temperature,\n",
    "    # Ollama wrapper doesn’t use `max_tokens` or `timeout` exactly the same way as Google GenAI,\n",
    "    # but you can still pass client kwargs if needed.\n",
    ")\n",
    "end_time = time.time()\n",
    "initialization_duration = end_time - start_time\n",
    "\n",
    "# Log metrics\n",
    "mlflow.log_metric(\"llm_initialization_duration_seconds\", initialization_duration)\n",
    "\n",
    "print(f\"Ollama model '{llm_model_name}' initialized in {initialization_duration:.4f} seconds.\")\n"
   ]
  },
  {
   "cell_type": "code",
   "execution_count": 14,
   "id": "7e5716dc",
   "metadata": {},
   "outputs": [
    {
     "data": {
      "text/plain": [
       "\"MS Dhoni, also known as Mahendra Singh Dhoni, is a former Indian international cricketer who played for the Indian national team from 2004 to 2019. He was one of the most successful and popular cricketers in the world during his playing career.\\n\\nHere are some key facts about MS Dhoni:\\n\\n**Early Life**\\n\\nDhoni was born on July 7, 1981, in Ranchi, Jharkhand (then part of Bihar), India. His father, Pan Singh Dhoni, was a railway employee, and his mother, Devki Devi, was a homemaker.\\n\\n**Cricket Career**\\n\\nDhoni started playing cricket at the age of eight and quickly rose through the ranks to become one of the most successful wicket-keepers in Indian cricket history. He made his international debut in 2004 against Bangladesh and went on to play for India in all formats of the game (Test, ODI, T20).\\n\\n**Achievements**\\n\\nDhoni's achievements are numerous:\\n\\n1. **Captaincy**: Dhoni was a successful captain of the Indian team, leading them to several victories, including the 2011 Cricket World Cup and the 2007 ICC World Twenty20.\\n2. **Wicket-keeping**: He is considered one of the greatest wicket-keepers in cricket history, known for his exceptional skills behind the stumps and his ability to take crucial catches.\\n3. **Batting**: Dhoni was a skilled batsman who could play both aggressive and defensive shots with ease. He scored over 10,000 runs in international cricket.\\n4. **Leadership**: Dhoni's leadership qualities were highly praised by his teammates and opponents alike. He was known for his calm and composed demeanor under pressure.\\n\\n**Personal Life**\\n\\nDhoni is married to Sakshi Singh Rawat, a former model and beauty pageant winner. They have two daughters, Ziva and Saanvi.\\n\\n**Post-Retirement**\\n\\nAfter announcing his retirement from international cricket in 2019, Dhoni has remained involved in the sport as the captain of Chennai Super Kings (CSK) in the Indian Premier League (IPL). He is also a successful entrepreneur and has invested in several businesses, including a restaurant chain and a sports management company.\\n\\n**Legacy**\\n\\nMS Dhoni's legacy extends beyond his on-field achievements. He is widely regarded as one of the greatest cricketers of all time, known for his humility, dedication, and leadership qualities. His impact on Indian cricket and his fans will be remembered for generations to come.\""
      ]
     },
     "execution_count": 14,
     "metadata": {},
     "output_type": "execute_result"
    }
   ],
   "source": [
    "ans = chatModel.invoke(\"who is MS Dhoni\")\n",
    "ans"
   ]
  },
  {
   "cell_type": "code",
   "execution_count": 15,
   "id": "0585b456",
   "metadata": {},
   "outputs": [
    {
     "name": "stdout",
     "output_type": "stream",
     "text": [
      "input_variables=['context', 'question'] input_types={} partial_variables={} metadata={'lc_hub_owner': 'rlm', 'lc_hub_repo': 'rag-prompt', 'lc_hub_commit_hash': '50442af133e61576e74536c6556cefe1fac147cad032f4377b60c436e6cdcb6e'} messages=[HumanMessagePromptTemplate(prompt=PromptTemplate(input_variables=['context', 'question'], input_types={}, partial_variables={}, template=\"You are an assistant for question-answering tasks. Use the following pieces of retrieved context to answer the question. If you don't know the answer, just say that you don't know. Use three sentences maximum and keep the answer concise.\\nQuestion: {question} \\nContext: {context} \\nAnswer:\"), additional_kwargs={})]\n",
      "\n",
      "\n",
      " Prompt template defined and logged to MLflow.\n"
     ]
    }
   ],
   "source": [
    "from langchain.chains import create_retrieval_chain\n",
    "from langchain.chains.combine_documents import create_stuff_documents_chain\n",
    "from langchain_core.prompts import ChatPromptTemplate\n",
    "\n",
    "## for ready-made RAG prompts\n",
    "from langchain import hub\n",
    "# Pull a pre-made RAG prompt from LangChain Hub\n",
    "prompt = hub.pull(\"rlm/rag-prompt\")\n",
    "\n",
    "\n",
    "\n",
    "## System Prompt defining\n",
    "system_prompt = (\n",
    "    \"You are an Medical assistant for question-answering tasks. \"\n",
    "    \"Use the following pieces of retrieved context to answer \"\n",
    "    \"the question. If you don't know the answer, say that you \"\n",
    "    \"don't know. Keep the answer concise and understandable.\"\n",
    "    \"\\n\\n\"\n",
    "    \"{context}\"\n",
    ")\n",
    "\n",
    "# Create the ChatPromptTemplate\n",
    "# prompt = ChatPromptTemplate.from_messages(\n",
    "#     [\n",
    "#         (\"system\", system_prompt),\n",
    "#         (\"human\", \"{input}\"),\n",
    "#     ]\n",
    "# )\n",
    "\n",
    "\n",
    "mlflow.log_param(\"system prompt for llm :\", system_prompt)\n",
    "print(prompt)\n",
    "print(\"\\n\\n Prompt template defined and logged to MLflow.\")"
   ]
  },
  {
   "cell_type": "markdown",
   "id": "ba084952",
   "metadata": {},
   "source": [
    "### Defining RAG chain"
   ]
  },
  {
   "cell_type": "code",
   "execution_count": 40,
   "id": "fe1d1372",
   "metadata": {},
   "outputs": [],
   "source": [
    "from langchain_core.output_parsers import StrOutputParser\n",
    "from langchain_core.runnables import RunnablePassthrough\n",
    "from operator import itemgetter\n",
    "\n",
    "# Helper function to format retrieved documents\n",
    "def format_docs(docs):\n",
    "    return \"\\n\\n\".join(doc.page_content for doc in docs)\n",
    "\n",
    "# Define the full RAG chain\n",
    "rag_chain = (\n",
    "    {\"context\": retriever | format_docs, \"question\": RunnablePassthrough()}\n",
    "    | prompt\n",
    "    | chatModel\n",
    "    | StrOutputParser()\n",
    ")\n",
    "\n",
    "## another RAG chain - ragas compatible\n",
    "retrieval_augmented_qa_chain = (\n",
    "    # INVOKE CHAIN WITH: {\"question\" : \"<<SOME USER QUESTION>>\"}\n",
    "    # \"question\" : populated by getting the value of the \"question\" key\n",
    "    # \"context\"  : populated by getting the value of the \"question\" key and chaining it into the base_retriever\n",
    "    {\"context\": itemgetter(\"question\") | retriever, \"question\": itemgetter(\"question\")}\n",
    "    # \"context\"  : is assigned to a RunnablePassthrough object (will not be called or considered in the next step)\n",
    "    #              by getting the value of the \"context\" key from the previous step\n",
    "    | RunnablePassthrough.assign(context=itemgetter(\"context\"))\n",
    "    # \"response\" : the \"context\" and \"question\" values are used to format our prompt object and then piped\n",
    "    #              into the LLM and stored in a key called \"response\"\n",
    "    # \"context\"  : populated by getting the value of the \"context\" key from the previous step\n",
    "    | {\"response\": prompt | chatModel, \"context\": itemgetter(\"context\")}\n",
    ")"
   ]
  },
  {
   "cell_type": "code",
   "execution_count": 41,
   "id": "48fb7557",
   "metadata": {},
   "outputs": [
    {
     "name": "stdout",
     "output_type": "stream",
     "text": [
      "I don't have the information on the dose of vitamin D that should be taken.\n",
      "\n",
      "A lack of vitamin D can lead to diseases such as rickets in children and osteomalacia in adults, which are characterized by softening of bones.\n"
     ]
    }
   ],
   "source": [
    "# Ask a question using the RAG chain\n",
    "response = rag_chain.invoke(\"What dose of vitamin D should we take? What diseases can occur due to a lack of vitamin D?\")\n",
    "print(response)"
   ]
  },
  {
   "cell_type": "markdown",
   "id": "4b21da96",
   "metadata": {},
   "source": [
    "## RAGAS Setup:\n",
    "\n",
    "### GroundTruth dataset creation"
   ]
  },
  {
   "cell_type": "code",
   "execution_count": 18,
   "id": "440beb0f",
   "metadata": {},
   "outputs": [],
   "source": [
    "from langchain.output_parsers import ResponseSchema\n",
    "from langchain.output_parsers import StructuredOutputParser\n",
    "\n",
    "question_schema = ResponseSchema(\n",
    "    name=\"question\",\n",
    "    description=\"a question about the context.\"\n",
    ")\n",
    "\n",
    "question_response_schemas = [\n",
    "    question_schema,\n",
    "]\n"
   ]
  },
  {
   "cell_type": "code",
   "execution_count": 19,
   "id": "b089e6d3",
   "metadata": {},
   "outputs": [],
   "source": [
    "question_output_parser = StructuredOutputParser.from_response_schemas(question_response_schemas)\n",
    "format_instructions = question_output_parser.get_format_instructions()"
   ]
  },
  {
   "cell_type": "markdown",
   "id": "9afe9641",
   "metadata": {},
   "source": [
    "### Question generator llm model setup"
   ]
  },
  {
   "cell_type": "code",
   "execution_count": 20,
   "id": "759d8d0b",
   "metadata": {},
   "outputs": [
    {
     "name": "stdout",
     "output_type": "stream",
     "text": [
      "Initializing Ollama model: llama3.1:latest...\n",
      "Ollama model 'llama3.1:latest' initialized in 0.0006 seconds.\n"
     ]
    }
   ],
   "source": [
    "from langchain_community.llms import Ollama  # wrapper for local Ollama models\n",
    "\n",
    "\n",
    "# Define LLM parameters\n",
    "llm_model_name = \"llama3.1:latest\"\n",
    "llm_temperature = 0.5\n",
    "llm_timeout = None\n",
    "llm_max_retries = 2\n",
    "\n",
    "# Log LLM parameters\n",
    "mlflow.log_param(\"question generator llm_provider\", \"Ollama\")\n",
    "mlflow.log_param(\"question generator llm_model_name\", llm_model_name)\n",
    "mlflow.log_param(\"question generator llm_temperature\", llm_temperature)\n",
    "mlflow.log_param(\"question generator llm_timeout\", llm_timeout if llm_timeout is not None else \"None\")\n",
    "mlflow.log_param(\"question generator llm_max_retries\", llm_max_retries)\n",
    "\n",
    "\n",
    "print(f\"Initializing Ollama model: {llm_model_name}...\")\n",
    "start_time = time.time()\n",
    "question_generation_llm = Ollama(\n",
    "    model=llm_model_name,\n",
    "    temperature=llm_temperature,\n",
    "    # Ollama wrapper doesn’t use `max_tokens` or `timeout` exactly the same way as Google GenAI,\n",
    "    # but you can still pass client kwargs if needed.\n",
    ")\n",
    "end_time = time.time()\n",
    "initialization_duration = end_time - start_time\n",
    "\n",
    "# Log metrics\n",
    "mlflow.log_metric(\"llm_initialization_duration_seconds\", initialization_duration)\n",
    "\n",
    "print(f\"Ollama model '{llm_model_name}' initialized in {initialization_duration:.4f} seconds.\")\n",
    "\n",
    "\n",
    "bare_prompt_template = \"{content}\"\n",
    "bare_template = ChatPromptTemplate.from_template(template=bare_prompt_template)"
   ]
  },
  {
   "cell_type": "code",
   "execution_count": 21,
   "id": "250e283b",
   "metadata": {},
   "outputs": [],
   "source": [
    "from langchain.prompts import ChatPromptTemplate\n",
    "\n",
    "qa_template = \"\"\"\\\n",
    "You are a Professor of Medical University creating a test for advanced students.\n",
    "For each context, create a question that is specific to the context. Avoid generic questions.\n",
    "\n",
    "question: a question about the context.\n",
    "\n",
    "Format the output as JSON with the following keys:\n",
    "question\n",
    "\n",
    "context: {context}\n",
    "\"\"\"\n",
    "\n",
    "prompt_template = ChatPromptTemplate.from_template(template=qa_template)\n",
    "\n",
    "messages = prompt_template.format_messages(\n",
    "    context=chunks[0],\n",
    "    format_instructions=format_instructions\n",
    ")\n",
    "\n",
    "question_generation_chain = bare_template | question_generation_llm\n",
    "\n",
    "response = question_generation_chain.invoke({\"content\" : messages})\n",
    "response\n",
    "\n",
    "\n",
    "output_dict = question_output_parser.parse(response)"
   ]
  },
  {
   "cell_type": "code",
   "execution_count": 22,
   "id": "d8a288d8",
   "metadata": {},
   "outputs": [
    {
     "name": "stdout",
     "output_type": "stream",
     "text": [
      "question\n",
      "What is the primary function of the hypothalamus in regulating body temperature?\n",
      "context\n",
      "{'page_content': 'The GALE\\nENCYCLOPEDIA\\nof MEDICINE\\nSECOND EDITION', 'metadata': {'source': 'data/Medical_book.pdf', 'page': 1}}\n"
     ]
    }
   ],
   "source": [
    "for k, v in output_dict.items():\n",
    "  print(k)\n",
    "  print(v)"
   ]
  },
  {
   "cell_type": "markdown",
   "id": "b8a946de",
   "metadata": {},
   "source": [
    "### create question set from initial few chunks"
   ]
  },
  {
   "cell_type": "code",
   "execution_count": 23,
   "id": "a4ab32ea",
   "metadata": {},
   "outputs": [
    {
     "name": "stderr",
     "output_type": "stream",
     "text": [
      "100%|██████████| 30/30 [03:19<00:00,  6.64s/it]\n"
     ]
    }
   ],
   "source": [
    "from tqdm import tqdm ## tqdm to show the progress bar of iterative or loops operation\n",
    "\n",
    "qac_triples = []\n",
    "\n",
    "for text in tqdm(chunks[:30]):\n",
    "  messages = prompt_template.format_messages(\n",
    "      context=text,\n",
    "      format_instructions=format_instructions\n",
    "  )\n",
    "  response = question_generation_chain.invoke({\"content\" : messages})\n",
    "  try:\n",
    "    output_dict = question_output_parser.parse(response)\n",
    "  except Exception as e:\n",
    "    continue\n",
    "  output_dict[\"context\"] = text\n",
    "  qac_triples.append(output_dict)"
   ]
  },
  {
   "cell_type": "code",
   "execution_count": 24,
   "id": "0881aea7",
   "metadata": {},
   "outputs": [
    {
     "data": {
      "text/plain": [
       "{'question': 'What is the primary goal of holistic medicine, as described in the context?',\n",
       " 'context': Document(metadata={'source': 'data/Medical_book.pdf', 'page': 6}, page_content='Diagnosis Description\\nTreatment Preparation\\nAlternative treatment Aftercare\\nPrognosis Risks\\nPrevention Normal/Abnormal results\\nResources Resources\\nKey terms Key terms\\nIn recent years there has been a resurgence of interest\\nin holistic medicine that emphasizes the connection\\nbetween mind and body. Aimed at achieving and main-\\ntaining good health rather than just eliminating disease,\\nthis approach has come to be known as alternative medi-\\ncine. The Gale Encyclopedia of Medicine 2 includes a')}"
      ]
     },
     "execution_count": 24,
     "metadata": {},
     "output_type": "execute_result"
    }
   ],
   "source": [
    "qac_triples[20]"
   ]
  },
  {
   "cell_type": "markdown",
   "id": "30e28f17",
   "metadata": {},
   "source": [
    "### Answer generator llm model setup"
   ]
  },
  {
   "cell_type": "code",
   "execution_count": 25,
   "id": "b0e78662",
   "metadata": {},
   "outputs": [
    {
     "name": "stdout",
     "output_type": "stream",
     "text": [
      "Initializing Ollama model: llama3.1:latest...\n",
      "Ollama model 'llama3.1:latest' initialized in 0.0006 seconds.\n"
     ]
    }
   ],
   "source": [
    "# Define LLM parameters\n",
    "llm_model_name = \"llama3.1:latest\"\n",
    "llm_temperature = 0.5\n",
    "llm_timeout = None\n",
    "llm_max_retries = 2\n",
    "\n",
    "# Log LLM parameters\n",
    "mlflow.log_param(\"answer generator llm_provider\", \"Ollama\")\n",
    "mlflow.log_param(\"answer generator llm_model_name\", llm_model_name)\n",
    "mlflow.log_param(\"answer generator llm_temperature\", llm_temperature)\n",
    "mlflow.log_param(\"answer generator llm_timeout\", llm_timeout if llm_timeout is not None else \"None\")\n",
    "mlflow.log_param(\"answer generator llm_max_retries\", llm_max_retries)\n",
    "\n",
    "\n",
    "print(f\"Initializing Ollama model: {llm_model_name}...\")\n",
    "start_time = time.time()\n",
    "answer_generation_llm = Ollama(\n",
    "    model=llm_model_name,\n",
    "    temperature=llm_temperature,\n",
    ")\n",
    "end_time = time.time()\n",
    "initialization_duration = end_time - start_time\n",
    "\n",
    "# Log metrics\n",
    "mlflow.log_metric(\"llm_initialization_duration_seconds\", initialization_duration)\n",
    "\n",
    "print(f\"Ollama model '{llm_model_name}' initialized in {initialization_duration:.4f} seconds.\")\n"
   ]
  },
  {
   "cell_type": "code",
   "execution_count": 26,
   "id": "9f2d5a4b",
   "metadata": {},
   "outputs": [],
   "source": [
    "answer_schema = ResponseSchema(\n",
    "    name=\"answer\",\n",
    "    description=\"an answer to the question\"\n",
    ")\n",
    "\n",
    "answer_response_schemas = [\n",
    "    answer_schema,\n",
    "]\n",
    "\n",
    "\n",
    "answer_output_parser = StructuredOutputParser.from_response_schemas(answer_response_schemas)\n",
    "format_instructions = answer_output_parser.get_format_instructions()\n",
    "\n",
    "\n",
    "\n",
    "qa_template = \"\"\"\\\n",
    "You are a Professor of Medical university creating a test for advanced students. For each question and context, create an answer.\n",
    "\n",
    "answer: a answer about the context.\n",
    "\n",
    "Format the output as JSON with the following keys:\n",
    "answer\n",
    "\n",
    "question: {question}\n",
    "context: {context}\n",
    "\"\"\"\n",
    "\n",
    "\n",
    "prompt_template = ChatPromptTemplate.from_template(template=qa_template)\n",
    "\n",
    "messages = prompt_template.format_messages(\n",
    "    context=qac_triples[20][\"context\"],\n",
    "    question=qac_triples[20][\"question\"],\n",
    "    format_instructions=format_instructions\n",
    ")\n",
    "\n",
    "\n",
    "answer_generation_chain = bare_template | answer_generation_llm\n"
   ]
  },
  {
   "cell_type": "code",
   "execution_count": 27,
   "id": "1d361f6c",
   "metadata": {},
   "outputs": [],
   "source": [
    "response = answer_generation_chain.invoke({\"content\" : messages})\n",
    "output_dict = answer_output_parser.parse(response)"
   ]
  },
  {
   "cell_type": "code",
   "execution_count": 28,
   "id": "33ba1c26",
   "metadata": {},
   "outputs": [
    {
     "name": "stdout",
     "output_type": "stream",
     "text": [
      "answer\n",
      "The primary goal of holistic medicine is to achieve and maintain good health, rather than just eliminating disease.\n",
      "question\n",
      "What is the primary goal of holistic medicine, as described in the context?\n"
     ]
    }
   ],
   "source": [
    "for k, v in output_dict.items():\n",
    "  print(k)\n",
    "  print(v)"
   ]
  },
  {
   "cell_type": "markdown",
   "id": "231f6e4b",
   "metadata": {},
   "source": [
    "### Generating answer for all the question generated earlier (in earlier section)"
   ]
  },
  {
   "cell_type": "code",
   "execution_count": 29,
   "id": "8f534544",
   "metadata": {},
   "outputs": [
    {
     "name": "stderr",
     "output_type": "stream",
     "text": [
      "100%|██████████| 30/30 [02:41<00:00,  5.37s/it]\n"
     ]
    }
   ],
   "source": [
    "for triple in tqdm(qac_triples):\n",
    "  messages = prompt_template.format_messages(\n",
    "      context=triple[\"context\"],\n",
    "      question=triple[\"question\"],\n",
    "      format_instructions=format_instructions\n",
    "  )\n",
    "  response = answer_generation_chain.invoke({\"content\" : messages})\n",
    "  try:\n",
    "    output_dict = answer_output_parser.parse(response)\n",
    "  except Exception as e:\n",
    "    continue\n",
    "  triple[\"answer\"] = output_dict[\"answer\"]"
   ]
  },
  {
   "cell_type": "markdown",
   "id": "55868916",
   "metadata": {},
   "source": [
    "### Now, process the qus-ans-context -> filtering and manipulating"
   ]
  },
  {
   "cell_type": "code",
   "execution_count": 30,
   "id": "f0fec7c0",
   "metadata": {},
   "outputs": [
    {
     "data": {
      "text/plain": [
       "[{'question': 'What is the primary function of the GALE ENCYCLOPEDIA OF MEDICINE, SECOND EDITION?',\n",
       "  'context': Document(metadata={'source': 'data/Medical_book.pdf', 'page': 1}, page_content='The GALE\\nENCYCLOPEDIA\\nof MEDICINE\\nSECOND EDITION'),\n",
       "  'answer': 'The GALE ENCYCLOPEDIA OF MEDICINE, SECOND EDITION is a comprehensive reference work that provides in-depth information on various medical topics, including diseases, treatments, and health-related issues. Its primary function is to serve as a reliable source of medical knowledge for healthcare professionals, students, and the general public.'},\n",
       " {'question': 'What is the role of an Editor in a medical encyclopedia, as evident from the provided context?',\n",
       "  'context': Document(metadata={'source': 'data/Medical_book.pdf', 'page': 2}, page_content='The GALE\\nENCYCLOPEDIA\\nof MEDICINE\\nSECOND EDITION\\nJACQUELINE L. LONGE, EDITOR\\nDEIRDRE S. BLANCHFIELD, ASSOCIATE EDITOR\\nVOLUME\\nA-B\\n1'),\n",
       "  'additional_kwargs': {},\n",
       "  'response_metadata': {},\n",
       "  'answer': 'The Editor is responsible for overseeing the content of the medical encyclopedia, ensuring its accuracy and relevance. In this context, Jacqueline L. Longe is the Editor, and Deirdre S. Blanchfield is the Associate Editor.'},\n",
       " {'question': 'What is the role of a Project Manager in the context of multimedia content production, as described on page 3 of Medical Book?',\n",
       "  'context': Document(metadata={'source': 'data/Medical_book.pdf', 'page': 3}, page_content='STAFF\\nJacqueline L. Longe, Project Editor\\nDeirdre S. Blanchfield, Associate Editor\\nChristine B. Jeryan, Managing Editor\\nDonna Olendorf, Senior Editor\\nStacey Blachford, Associate Editor\\nKate Kretschmann, Melissa C. McDade, Ryan\\nThomason, Assistant Editors\\nMark Springer, Technical Specialist\\nAndrea Lopeman, Programmer/Analyst\\nBarbara J. Yarrow,Manager, Imaging and Multimedia\\nContent\\nRobyn V . Young,Project Manager, Imaging and\\nMultimedia Content\\nDean Dauphinais, Senior Editor, Imaging and'),\n",
       "  'additional_kwargs': {},\n",
       "  'response_metadata': {},\n",
       "  'answer': 'The Project Manager is responsible for overseeing the production of multimedia content, ensuring it meets the required standards and deadlines.'},\n",
       " {'question': 'Who is the Senior Editor of Imaging and Multimedia Content?',\n",
       "  'context': Document(metadata={'source': 'data/Medical_book.pdf', 'page': 3}, page_content='Multimedia Content\\nDean Dauphinais, Senior Editor, Imaging and\\nMultimedia Content\\nKelly A. Quin, Editor, Imaging and Multimedia Content\\nLeitha Etheridge-Sims, Mary K. Grimes, Dave Oblender,\\nImage Catalogers\\nPamela A. Reed, Imaging Coordinator\\nRandy Bassett, Imaging Supervisor\\nRobert Duncan, Senior Imaging Specialist\\nDan Newell, Imaging Specialist\\nChristine O’Bryan,Graphic Specialist\\nMaria Franklin, Permissions Manager\\nMargaret A. Chamberlain, Permissions Specialist'),\n",
       "  'additional_kwargs': {},\n",
       "  'response_metadata': {},\n",
       "  'answer': 'Dean Dauphinais'},\n",
       " {'question': 'What is the role of a Permissions Manager in a publishing process?',\n",
       "  'context': Document(metadata={'source': 'data/Medical_book.pdf', 'page': 3}, page_content='Maria Franklin, Permissions Manager\\nMargaret A. Chamberlain, Permissions Specialist\\nMichelle DiMercurio, Senior Art Director\\nMike Logusz, Graphic Artist\\nMary Beth Trimper,Manager, Composition and\\nElectronic Prepress\\nEvi Seoud, Assistant Manager, Composition Purchasing\\nand Electronic Prepress\\nDorothy Maki, Manufacturing Manager\\nWendy Blurton, Senior Manufacturing Specialist\\nThe GALE\\nENCYCLOPEDIA\\nof MEDICINE\\nSECOND EDITION\\nSince this page cannot legibly accommodate all copyright notices, the'),\n",
       "  'answer': 'The role of a Permissions Manager in a publishing process is to obtain and manage the necessary permissions for copyrighted materials, such as images, text excerpts, or other content, that are used in a publication. This includes ensuring that all required permissions are obtained from copyright holders, tracking the usage of copyrighted materials, and maintaining records of permissions granted.'},\n",
       " {'question': 'What is the purpose of including an extension of the copyright notice in a medical textbook?',\n",
       "  'context': Document(metadata={'source': 'data/Medical_book.pdf', 'page': 3}, page_content='of MEDICINE\\nSECOND EDITION\\nSince this page cannot legibly accommodate all copyright notices, the\\nacknowledgments constitute an extension of the copyright notice.\\nWhile every effort has been made to ensure the reliability of the infor-\\nmation presented in this publication, the Gale Group neither guarantees\\nthe accuracy of the data contained herein nor assumes any responsibili-\\nty for errors, omissions or discrepancies. The Gale Group accepts no'),\n",
       "  'answer': 'The purpose of including an extension of the copyright notice in a medical textbook is to provide a comprehensive legal disclaimer, acknowledging potential errors or discrepancies in the information presented.'},\n",
       " {'question': 'What type of paper does the book use, as mentioned in the environmental protection statement?',\n",
       "  'context': Document(metadata={'source': 'data/Medical_book.pdf', 'page': 3}, page_content='ty for errors, omissions or discrepancies. The Gale Group accepts no\\npayment for listing, and inclusion in the publication of any organiza-\\ntion, agency, institution, publication, service, or individual does not\\nimply endorsement of the editor or publisher. Errors brought to the\\nattention of the publisher and verified to the satisfaction of the publish-\\ner will be corrected in future editions.\\nThis book is printed on recycled paper that meets Environmental Pro-\\ntection Agency standards.'),\n",
       "  'answer': 'recycled'},\n",
       " {'question': 'What is the specific standard for paper permanence mentioned in this book, as per ANSI?',\n",
       "  'context': Document(metadata={'source': 'data/Medical_book.pdf', 'page': 3}, page_content='This book is printed on recycled paper that meets Environmental Pro-\\ntection Agency standards.\\nThe paper used in this publication meets the minimum requirements of\\nAmerican National Standard for Information Sciences-Permanence\\nPaper for Printed Library Materials, ANSI Z39.48-1984.\\nThis publication is a creative work fully protected by all applicable\\ncopyright laws, as well as by misappropriation, trade secret, unfair com-\\npetition, and other applicable laws. The authors and editor of this work'),\n",
       "  'answer': 'ANSI Z39.48-1984'},\n",
       " {'question': 'What is the purpose of adding value to the underlying factual material in this publication?',\n",
       "  'context': Document(metadata={'source': 'data/Medical_book.pdf', 'page': 3}, page_content='petition, and other applicable laws. The authors and editor of this work\\nhave added value to the underlying factual material herein through one\\nor more of the following: unique and original selection, coordination,\\nexpression, arrangement, and classification of the information.\\nGale Group and design is a trademark used herein under license.\\nAll rights to this publication will be vigorously defended.\\nCopyright © 2002\\nGale Group\\n27500 Drake Road\\nFarmington Hills, MI 48331-3535'),\n",
       "  'answer': 'The purpose of adding value to the underlying factual material in this publication is to provide a unique and original selection, coordination, expression, arrangement, and classification of the information.'},\n",
       " {'question': 'What is the name of the publisher mentioned in this copyright notice?',\n",
       "  'context': Document(metadata={'source': 'data/Medical_book.pdf', 'page': 3}, page_content='Copyright © 2002\\nGale Group\\n27500 Drake Road\\nFarmington Hills, MI 48331-3535\\nAll rights reserved including the right of reproduction in whole or in\\npart in any form.\\nISBN 0-7876-5489-2 (set)\\n0-7876-5490-6 (V ol. 1)\\n0-7876-5491-4 (V ol. 2)\\n0-7876-5492-2 (V ol. 3)\\n0-7876-5493-0 (V ol. 4)\\n0-7876-5494-9 (V ol. 5)\\nPrinted in the United States of America\\n10 9 8 7 6 5 4 3 2 1\\nLibrary of Congress Cataloging-in-Publication Data\\nGale encyclopedia of medicine / Jacqueline L. Longe, editor;'),\n",
       "  'response_metadata': {},\n",
       "  'answer': 'Gale Group'},\n",
       " {'question': 'What is the primary topic covered in this medical encyclopedia?',\n",
       "  'context': Document(metadata={'source': 'data/Medical_book.pdf', 'page': 3}, page_content='Gale encyclopedia of medicine / Jacqueline L. Longe, editor;\\nDeirdre S. Blanchfield, associate editor — 2nd ed.\\np. cm.\\nIncludes bibliographical references and index.\\nContents: V ol. 1. A-B — v. 2. C-F — v. 3.\\nG-M — v. 4. N-S — v. 5. T-Z.\\nISBN 0-7876-5489-2 (set: hardcover) — ISBN 0-7876-5490-6\\n(vol. 1) — ISBN 0-7876-5491-4 (vol. 2) — ISBN 0-7876-5492-2\\n(vol. 3) — ISBN 0-7876-5493-0 (vol. 4) — ISBN 0-7876-5494-9\\n(vol. 5)\\n1. Internal medicine—Encyclopedias. I. Longe, Jacqueline L.'),\n",
       "  'answer': 'Internal medicine'},\n",
       " {'question': 'What is the title of this medical encyclopedia?',\n",
       "  'context': Document(metadata={'source': 'data/Medical_book.pdf', 'page': 3}, page_content='(vol. 5)\\n1. Internal medicine—Encyclopedias. I. Longe, Jacqueline L. \\nII. Blanchfield, Deirdre S. III. Gale Research Company.\\nRC41.G35 2001\\n616’.003—dc21\\n2001051245'),\n",
       "  'additional_kwargs': {},\n",
       "  'response_metadata': {},\n",
       "  'answer': 'Internal medicine—Encyclopedias'},\n",
       " {'question': 'What is the purpose of listing contributors in a medical textbook?',\n",
       "  'context': Document(metadata={'source': 'data/Medical_book.pdf', 'page': 4}, page_content='Introduction.................................................... ix\\nAdvisory Board.............................................. xi\\nContributors ................................................. xiii\\nEntries\\nVolume 1: A-B.............................................. 1\\nVolume 2: C-F.......................................... 625\\nVolume 3: G-M....................................... 1375\\nVolume 4: N-S........................................ 2307'),\n",
       "  'answer': \"The purpose of listing contributors in a medical textbook is to provide credit and recognition to the experts who have contributed their knowledge, expertise, or time to the creation of the book. It also serves as a way to acknowledge the authors' relationships with other professionals in the field, which can be important for establishing credibility and trustworthiness.\"},\n",
       " {'question': 'What is the purpose of Volume 5 in this medical encyclopedia, given its title and page number?',\n",
       "  'context': Document(metadata={'source': 'data/Medical_book.pdf', 'page': 4}, page_content='Volume 4: N-S........................................ 2307\\nVolume 5: T-Z........................................ 3237\\nOrganizations ............................................ 3603\\nGeneral Index............................................ 3625\\nGALE ENCYCLOPEDIA OF MEDICINE 2 V\\nCONTENTS'),\n",
       "  'additional_kwargs': {},\n",
       "  'response_metadata': {},\n",
       "  'answer': 'The purpose of Volume 5 in this medical encyclopedia is to provide a comprehensive listing of terms related to medicine, specifically covering topics from T-Z, with page numbers indicating where each term can be found in more detail.'},\n",
       " {'question': 'What is the intended purpose of The Gale Encyclopedia of Medicine 2, according to its introduction?',\n",
       "  'context': Document(metadata={'source': 'data/Medical_book.pdf', 'page': 5}, page_content='The Gale Encyclopedia of Medicine 2is a medical ref-\\nerence product designed to inform and educate readers\\nabout a wide variety of disorders, conditions, treatments,\\nand diagnostic tests. The Gale Group believes the product\\nto be comprehensive, but not necessarily definitive. It is\\nintended to supplement, not replace, consultation with a\\nphysician or other healthcare practitioner. While the Gale\\nGroup has made substantial efforts to provide information'),\n",
       "  'additional_kwargs': {},\n",
       "  'response_metadata': {},\n",
       "  'answer': 'The intended purpose of The Gale Encyclopedia of Medicine 2 is to inform and educate readers about various disorders, conditions, treatments, and diagnostic tests, while supplementing consultation with a physician or other healthcare practitioner.'},\n",
       " {'question': 'What is the purpose of including a disclaimer about warranties and accuracy in a medical textbook, as mentioned on page 5?',\n",
       "  'context': Document(metadata={'source': 'data/Medical_book.pdf', 'page': 5}, page_content='Group has made substantial efforts to provide information\\nthat is accurate, comprehensive, and up-to-date, the Gale\\nGroup makes no representations or warranties of any\\nkind, including without limitation, warranties of mer-\\nchantability or fitness for a particular purpose, nor does it\\nguarantee the accuracy, comprehensiveness, or timeliness\\nof the information contained in this product. Readers\\nshould be aware that the universe of medical knowledge'),\n",
       "  'additional_kwargs': {},\n",
       "  'response_metadata': {},\n",
       "  'answer': 'The disclaimer serves to limit the liability of the publisher and author, while also informing readers that the information provided may not be entirely accurate or up-to-date.'},\n",
       " {'question': 'What is the primary purpose of the disclaimer in this medical textbook?',\n",
       "  'context': Document(metadata={'source': 'data/Medical_book.pdf', 'page': 5}, page_content='should be aware that the universe of medical knowledge\\nis constantly growing and changing, and that differences\\nof medical opinion exist among authorities. Readers are\\nalso advised to seek professional diagnosis and treatment\\nfor any medical condition, and to discuss information\\nobtained from this book with their health care provider.\\nGALE ENCYCLOPEDIA OF MEDICINE 2 VII\\nPLEASE READ—IMPORTANT INFORMATION'),\n",
       "  'additional_kwargs': {},\n",
       "  'response_metadata': {},\n",
       "  'answer': 'The primary purpose of the disclaimer in this medical textbook is to inform readers that the information provided may not be up-to-date or universally accepted, and to advise them to consult a healthcare professional for personalized advice.'},\n",
       " {'question': 'What is the primary purpose of the Gale Encyclopedia of Medicine 2, according to its description?',\n",
       "  'context': Document(metadata={'source': 'data/Medical_book.pdf', 'page': 6}, page_content='The Gale Encyclopedia of Medicine 2 (GEM2) is a\\none-stop source for medical information on nearly 1,700\\ncommon medical disorders, conditions, tests, and treat-\\nments, including high-profile diseases such as AIDS,\\nAlzheimer’s disease, cancer, and heart attack. This ency-\\nclopedia avoids medical jargon and uses language that\\nlaypersons can understand, while still providing thor-\\nough coverage of each topic. The Gale Encyclopedia of\\nMedicine 2 fills a gap between basic consumer health'),\n",
       "  'answer': 'The primary purpose of the Gale Encyclopedia of Medicine 2 (GEM2) is to provide a one-stop source for medical information on common medical disorders, conditions, tests, and treatments that can be understood by laypersons.'},\n",
       " {'question': 'What is the primary difference between Medicine 2 and single-volume family medical guides, according to the scope of Gale Encyclopedia of Medicine 2?',\n",
       "  'context': Document(metadata={'source': 'data/Medical_book.pdf', 'page': 6}, page_content='Medicine 2 fills a gap between basic consumer health\\nresources, such as single-volume family medical guides,\\nand highly technical professional materials.\\nSCOPE\\nAlmost 1,700 full-length articles are included in the\\nGale Encyclopedia of Medicine 2 , including disorders/\\nconditions, tests/procedures, and treatments/therapies.\\nMany common drugs are also covered, with generic drug\\nnames appearing first and brand names following in\\nparentheses, eg. acetaminophen (Tylenol). Throughout'),\n",
       "  'answer': 'The primary difference is that Medicine 2 provides more in-depth information than single-volume family medical guides, filling the gap between basic consumer health resources and highly technical professional materials.'},\n",
       " {'question': 'What is the purpose of including sidebar biographies in the Gale Encyclopedia of Medicine, according to the provided context?',\n",
       "  'context': Document(metadata={'source': 'data/Medical_book.pdf', 'page': 6}, page_content='parentheses, eg. acetaminophen (Tylenol). Throughout\\nthe Gale Encyclopedia of Medicine 2 , many prominent\\nindividuals are highlighted as sidebar biographies that\\naccompany the main topical essays. Articles follow a\\nstandardized format that provides information at a\\nglance. Rubrics include:\\nDisorders/Conditions Tests/Treatments\\nDefinition Definition\\nDescription Purpose\\nCauses and symptoms Precautions\\nDiagnosis Description\\nTreatment Preparation\\nAlternative treatment Aftercare\\nPrognosis Risks'),\n",
       "  'answer': 'The purpose of including sidebar biographies in the Gale Encyclopedia of Medicine is to provide a brief overview of prominent individuals who have made significant contributions to medicine, making it easier for readers to quickly understand their relevance and significance.'},\n",
       " {'question': 'What is the primary goal of holistic medicine, as described in the context?',\n",
       "  'context': Document(metadata={'source': 'data/Medical_book.pdf', 'page': 6}, page_content='Diagnosis Description\\nTreatment Preparation\\nAlternative treatment Aftercare\\nPrognosis Risks\\nPrevention Normal/Abnormal results\\nResources Resources\\nKey terms Key terms\\nIn recent years there has been a resurgence of interest\\nin holistic medicine that emphasizes the connection\\nbetween mind and body. Aimed at achieving and main-\\ntaining good health rather than just eliminating disease,\\nthis approach has come to be known as alternative medi-\\ncine. The Gale Encyclopedia of Medicine 2 includes a'),\n",
       "  'answer': 'The primary goal of holistic medicine, as described in the context, is to achieve and maintain good health rather than just eliminating disease.'},\n",
       " {'question': 'What is the primary difference between traditional Chinese medicine and homeopathy as described in The Gale Encyclopedia of Medicine 2?',\n",
       "  'context': Document(metadata={'source': 'data/Medical_book.pdf', 'page': 6}, page_content='cine. The Gale Encyclopedia of Medicine 2 includes a\\nnumber of essays on alternative therapies, ranging from\\ntraditional Chinese medicine to homeopathy and from\\nmeditation to aromatherapy. In addition to full essays on\\nalternative therapies, the encyclopedia features specific\\nAlternative treatment sections for diseases and condi-\\ntions that may be helped by complementary therapies.\\nINCLUSION CRITERIA\\nA preliminary list of diseases, disorders, tests and treat-'),\n",
       "  'answer': \"Traditional Chinese medicine focuses on restoring balance to the body's energy, or qi, through herbal remedies, acupuncture, and other methods. In contrast, homeopathy is a system of alternative medicine that uses highly diluted substances to stimulate the body's natural healing processes.\"},\n",
       " {'question': 'What is the primary role of the general advisory board in compiling the preliminary list of diseases and treatments?',\n",
       "  'context': Document(metadata={'source': 'data/Medical_book.pdf', 'page': 6}, page_content='INCLUSION CRITERIA\\nA preliminary list of diseases, disorders, tests and treat-\\nments was compiled from a wide variety of sources,\\nincluding professional medical guides and textbooks as\\nwell as consumer guides and encyclopedias. The general\\nadvisory board, made up of public librarians, medical\\nlibrarians and consumer health experts, evaluated the top-\\nics and made suggestions for inclusion. The list was sorted\\nby category and sent to GEM2 medical advisors, certified'),\n",
       "  'answer': 'The primary role of the general advisory board in compiling the preliminary list of diseases and treatments is to evaluate the topics from a wide variety of sources, including professional medical guides and textbooks as well as consumer guides and encyclopedias, and make suggestions for inclusion.'},\n",
       " {'question': 'What role did the final selection of topics play in the creation of the GEM2 medical resource?',\n",
       "  'context': Document(metadata={'source': 'data/Medical_book.pdf', 'page': 6}, page_content='by category and sent to GEM2 medical advisors, certified\\nphysicians with various medical specialities, for review.\\nFinal selection of topics to include was made by the med-\\nical advisors in conjunction with the Gale Group editor.\\nABOUT THE CONTRIBUTORS\\nThe essays were compiled by experienced medical\\nwriters, including physicians, pharmacists, nurses, and\\nother health care professionals. GEM2 medical advisors\\nreviewed the completed essays to insure that they are'),\n",
       "  'answer': 'The final selection of topics played a crucial role in the creation of the GEM2 medical resource as it was made by certified physicians with various medical specialties, in conjunction with the Gale Group editor, to ensure accuracy and relevance.'},\n",
       " {'question': 'What is the primary design consideration for The Gale Encyclopedia of Medicine 2, as stated in the introduction?',\n",
       "  'context': Document(metadata={'source': 'data/Medical_book.pdf', 'page': 6}, page_content='reviewed the completed essays to insure that they are\\nappropriate, up-to-date, and medically accurate.\\nHOW TO USE THIS BOOK\\nThe Gale Encyclopedia of Medicine 2 has been\\ndesigned with ready reference in mind.\\n• Straight alphabetical arrangement allows users to\\nlocate information quickly.\\n• Bold-faced terms function as print hyperlinks that\\npoint the reader to related entries in the encyclopedia.\\nGALE ENCYCLOPEDIA OF MEDICINE 2 IX\\nINTRODUCTION'),\n",
       "  'answer': 'The primary design consideration for The Gale Encyclopedia of Medicine 2 is ready reference, allowing users to locate information quickly through a straight alphabetical arrangement and bold-faced terms that function as print hyperlinks.'},\n",
       " {'question': 'What are the benefits of including a list of key terms to define unfamiliar terms or concepts in an encyclopedia, and how would you implement this feature in a medical textbook?',\n",
       "  'context': Document(metadata={'source': 'data/Medical_book.pdf', 'page': 7}, page_content='• Cross-references placed throughout the encyclopedia\\ndirect readers to where information on subjects with-\\nout entries can be found. Synonyms are also cross-ref-\\nerenced.\\n• A list of key terms are provided where appropriate to\\ndefine unfamiliar terms or concepts.\\n• Valuable contact information for organizations and\\nsupport groups is included with each entry. The\\nappendix contains an extensive list of organizations\\narranged in alphabetical order.'),\n",
       "  'answer': 'Including a list of key terms to define unfamiliar terms or concepts in an encyclopedia provides several benefits. Firstly, it enhances reader comprehension by clarifying complex and technical vocabulary, making the content more accessible to readers from diverse backgrounds. Secondly, it facilitates cross-referencing and navigation within the text, allowing readers to quickly locate related information. Lastly, it enables readers to engage with the material more effectively, as they are better equipped to understand the nuances of the subject matter.\\n\\nTo implement this feature in a medical textbook, I would suggest the following steps:\\n\\n1. Identify key terms: During the content creation process, identify unfamiliar or technical terms that may be difficult for readers to comprehend.\\n2. Define key terms: Provide clear and concise definitions for each identified term, using simple language whenever possible.\\n3. Use cross-references: Utilize cross-referencing to link related concepts and entries within the text, making it easier for readers to navigate and explore the subject matter.\\n4. Organize content: Arrange the content in a logical manner, grouping related topics together and using clear headings and subheadings to facilitate navigation.\\n5. Provide additional resources: Include valuable contact information for organizations and support groups relevant to each entry, as well as an extensive list of organizations arranged alphabetically in the appendix.'},\n",
       " {'question': 'What is the primary purpose of the appendix in this medical encyclopedia?',\n",
       "  'context': Document(metadata={'source': 'data/Medical_book.pdf', 'page': 7}, page_content='appendix contains an extensive list of organizations\\narranged in alphabetical order.\\n• Resources section directs users to additional sources\\nof medical information on a topic.\\n• A comprehensive general index allows users to easily\\ntarget detailed aspects of any topic, including Latin\\nnames.\\nGRAPHICS\\nThe Gale Encyclopedia of Medicine 2 is enhanced\\nwith over 675 color images, including photos, charts,\\ntables, and customized line drawings.\\nGALE ENCYCLOPEDIA OF MEDICINE 2X\\nIntroduction'),\n",
       "  'response_metadata': {},\n",
       "  'answer': 'The primary purpose of the appendix in this medical encyclopedia is to provide a comprehensive general index and direct users to additional sources of medical information on a topic.'},\n",
       " {'question': 'What is the role of Richard Adrouny, M.D., in the Division of Oncology at Stanford University?',\n",
       "  'context': Document(metadata={'source': 'data/Medical_book.pdf', 'page': 8}, page_content='MEDICAL ADVISORS\\nA. Richard Adrouny, M.D.,\\nF.A.C.P.\\nClinical Assistant Professor of\\nMedicine\\nDivision of Oncology\\nStanford University\\nDirector of Medical Oncology\\nCommunity Hospital of Los Gatos-\\nSaratoga\\nLos Gatos, CA\\nLaurie Barclay, M.D.\\nNeurological Consulting Services\\nTampa, FL\\nKenneth J. Berniker, M.D.\\nAttending Physician\\nEmergency Department\\nKaiser Permanente Medical Center\\nVallejo, CA\\nRosalyn Carson-DeWitt, M.D.\\nDurham, NC\\nRobin Dipasquale, N.D.\\nClinical Faculty\\nBastyr University'),\n",
       "  'answer': 'Richard Adrouny, M.D., serves as a Clinical Assistant Professor of Medicine in the Division of Oncology at Stanford University and also holds the position of Director of Medical Oncology at Community Hospital of Los Gatos-Saratoga.'},\n",
       " {'question': \"What is the title of Dr. Laith F. Gulli's academic credentials?\",\n",
       "  'context': Document(metadata={'source': 'data/Medical_book.pdf', 'page': 8}, page_content='Rosalyn Carson-DeWitt, M.D.\\nDurham, NC\\nRobin Dipasquale, N.D.\\nClinical Faculty\\nBastyr University\\nSeattle, W A\\nFaye Fishman, D.O.\\nRandolph, NJ\\nJ. Gary Grant, M.D.\\nPacific Grove, CA\\nLaith F. Gulli, M.D.\\nM.Sc., M.Sc.(MedSci), MSA,\\nMsc.Psych., MRSNZ\\nFRSH, FRIPHH, FAIC, FZS\\nDAPA, DABFC, DABCI\\nConsultant Psychotherapist in\\nPrivate Practice\\nLathrup Village, MI\\nL. Anne Hirschel, D.D.S.\\nSouthfield, MI\\nLarry I. Lutwick M.D., F.A.C.P.\\nDirector, Infectious Diseases\\nV A Medical Center\\nBrooklyn, NY'),\n",
       "  'additional_kwargs': {},\n",
       "  'response_metadata': {},\n",
       "  'answer': \"Laith F. Gulli's academic credentials include M.Sc., M.Sc.(MedSci), MSA, Msc.Psych., MRSNZ, FRSH, FRIPHH, FAIC, FZS, DAPA, DABFC, and DABCI.\"},\n",
       " {'question': 'What is the role of Dr. Ira Michelson in the medical field?',\n",
       "  'context': Document(metadata={'source': 'data/Medical_book.pdf', 'page': 8}, page_content='Larry I. Lutwick M.D., F.A.C.P.\\nDirector, Infectious Diseases\\nV A Medical Center\\nBrooklyn, NY\\nIra Michelson, M.D., M.B.A.,\\nF.A.C.O.G.\\nPhysician and Clinical Instructor\\nUniversity of Michigan\\nAnn Arbor, MI\\nSusan Mockus, M.D.\\nScientific Consultant\\nSeattle, W A\\nRalph M. Myerson, M.D.,\\nF.A.C.P.\\nClinical Professor of Medicine\\nMedical College of Pennsylvania–\\nHahnemann University\\nPhiladelphia, PA\\nRonald Pies, M.D.\\nClinical Professor of Psychiatry\\nTufts University\\nSchool of Medicine\\nBoston, MA'),\n",
       "  'additional_kwargs': {},\n",
       "  'response_metadata': {},\n",
       "  'answer': 'Dr. Ira Michelson is a Physician and Clinical Instructor at the University of Michigan.'}]"
      ]
     },
     "execution_count": 30,
     "metadata": {},
     "output_type": "execute_result"
    }
   ],
   "source": [
    "qac_triples"
   ]
  },
  {
   "cell_type": "code",
   "execution_count": 31,
   "id": "313a6c69",
   "metadata": {},
   "outputs": [
    {
     "data": {
      "text/html": [
       "<div>\n",
       "<style scoped>\n",
       "    .dataframe tbody tr th:only-of-type {\n",
       "        vertical-align: middle;\n",
       "    }\n",
       "\n",
       "    .dataframe tbody tr th {\n",
       "        vertical-align: top;\n",
       "    }\n",
       "\n",
       "    .dataframe thead th {\n",
       "        text-align: right;\n",
       "    }\n",
       "</style>\n",
       "<table border=\"1\" class=\"dataframe\">\n",
       "  <thead>\n",
       "    <tr style=\"text-align: right;\">\n",
       "      <th></th>\n",
       "      <th>question</th>\n",
       "      <th>context</th>\n",
       "      <th>ground_truth</th>\n",
       "    </tr>\n",
       "  </thead>\n",
       "  <tbody>\n",
       "    <tr>\n",
       "      <th>0</th>\n",
       "      <td>What is the primary function of the GALE ENCYC...</td>\n",
       "      <td>page_content='The GALE\\nENCYCLOPEDIA\\nof MEDIC...</td>\n",
       "      <td>The GALE ENCYCLOPEDIA OF MEDICINE, SECOND EDIT...</td>\n",
       "    </tr>\n",
       "    <tr>\n",
       "      <th>1</th>\n",
       "      <td>What is the role of an Editor in a medical enc...</td>\n",
       "      <td>page_content='The GALE\\nENCYCLOPEDIA\\nof MEDIC...</td>\n",
       "      <td>The Editor is responsible for overseeing the c...</td>\n",
       "    </tr>\n",
       "    <tr>\n",
       "      <th>2</th>\n",
       "      <td>What is the role of a Project Manager in the c...</td>\n",
       "      <td>page_content='STAFF\\nJacqueline L. Longe, Proj...</td>\n",
       "      <td>The Project Manager is responsible for oversee...</td>\n",
       "    </tr>\n",
       "    <tr>\n",
       "      <th>3</th>\n",
       "      <td>Who is the Senior Editor of Imaging and Multim...</td>\n",
       "      <td>page_content='Multimedia Content\\nDean Dauphin...</td>\n",
       "      <td>Dean Dauphinais</td>\n",
       "    </tr>\n",
       "    <tr>\n",
       "      <th>4</th>\n",
       "      <td>What is the role of a Permissions Manager in a...</td>\n",
       "      <td>page_content='Maria Franklin, Permissions Mana...</td>\n",
       "      <td>The role of a Permissions Manager in a publish...</td>\n",
       "    </tr>\n",
       "    <tr>\n",
       "      <th>5</th>\n",
       "      <td>What is the purpose of including an extension ...</td>\n",
       "      <td>page_content='of MEDICINE\\nSECOND EDITION\\nSin...</td>\n",
       "      <td>The purpose of including an extension of the c...</td>\n",
       "    </tr>\n",
       "    <tr>\n",
       "      <th>6</th>\n",
       "      <td>What type of paper does the book use, as menti...</td>\n",
       "      <td>page_content='ty for errors, omissions or disc...</td>\n",
       "      <td>recycled</td>\n",
       "    </tr>\n",
       "    <tr>\n",
       "      <th>7</th>\n",
       "      <td>What is the specific standard for paper perman...</td>\n",
       "      <td>page_content='This book is printed on recycled...</td>\n",
       "      <td>ANSI Z39.48-1984</td>\n",
       "    </tr>\n",
       "    <tr>\n",
       "      <th>8</th>\n",
       "      <td>What is the purpose of adding value to the und...</td>\n",
       "      <td>page_content='petition, and other applicable l...</td>\n",
       "      <td>The purpose of adding value to the underlying ...</td>\n",
       "    </tr>\n",
       "    <tr>\n",
       "      <th>9</th>\n",
       "      <td>What is the name of the publisher mentioned in...</td>\n",
       "      <td>page_content='Copyright © 2002\\nGale Group\\n27...</td>\n",
       "      <td>Gale Group</td>\n",
       "    </tr>\n",
       "    <tr>\n",
       "      <th>10</th>\n",
       "      <td>What is the primary topic covered in this medi...</td>\n",
       "      <td>page_content='Gale encyclopedia of medicine / ...</td>\n",
       "      <td>Internal medicine</td>\n",
       "    </tr>\n",
       "    <tr>\n",
       "      <th>11</th>\n",
       "      <td>What is the title of this medical encyclopedia?</td>\n",
       "      <td>page_content='(vol. 5)\\n1. Internal medicine—E...</td>\n",
       "      <td>Internal medicine—Encyclopedias</td>\n",
       "    </tr>\n",
       "    <tr>\n",
       "      <th>12</th>\n",
       "      <td>What is the purpose of listing contributors in...</td>\n",
       "      <td>page_content='Introduction.......................</td>\n",
       "      <td>The purpose of listing contributors in a medic...</td>\n",
       "    </tr>\n",
       "    <tr>\n",
       "      <th>13</th>\n",
       "      <td>What is the purpose of Volume 5 in this medica...</td>\n",
       "      <td>page_content='Volume 4: N-S......................</td>\n",
       "      <td>The purpose of Volume 5 in this medical encycl...</td>\n",
       "    </tr>\n",
       "    <tr>\n",
       "      <th>14</th>\n",
       "      <td>What is the intended purpose of The Gale Encyc...</td>\n",
       "      <td>page_content='The Gale Encyclopedia of Medicin...</td>\n",
       "      <td>The intended purpose of The Gale Encyclopedia ...</td>\n",
       "    </tr>\n",
       "    <tr>\n",
       "      <th>15</th>\n",
       "      <td>What is the purpose of including a disclaimer ...</td>\n",
       "      <td>page_content='Group has made substantial effor...</td>\n",
       "      <td>The disclaimer serves to limit the liability o...</td>\n",
       "    </tr>\n",
       "    <tr>\n",
       "      <th>16</th>\n",
       "      <td>What is the primary purpose of the disclaimer ...</td>\n",
       "      <td>page_content='should be aware that the univers...</td>\n",
       "      <td>The primary purpose of the disclaimer in this ...</td>\n",
       "    </tr>\n",
       "    <tr>\n",
       "      <th>17</th>\n",
       "      <td>What is the primary purpose of the Gale Encycl...</td>\n",
       "      <td>page_content='The Gale Encyclopedia of Medicin...</td>\n",
       "      <td>The primary purpose of the Gale Encyclopedia o...</td>\n",
       "    </tr>\n",
       "    <tr>\n",
       "      <th>18</th>\n",
       "      <td>What is the primary difference between Medicin...</td>\n",
       "      <td>page_content='Medicine 2 fills a gap between b...</td>\n",
       "      <td>The primary difference is that Medicine 2 prov...</td>\n",
       "    </tr>\n",
       "    <tr>\n",
       "      <th>19</th>\n",
       "      <td>What is the purpose of including sidebar biogr...</td>\n",
       "      <td>page_content='parentheses, eg. acetaminophen (...</td>\n",
       "      <td>The purpose of including sidebar biographies i...</td>\n",
       "    </tr>\n",
       "    <tr>\n",
       "      <th>20</th>\n",
       "      <td>What is the primary goal of holistic medicine,...</td>\n",
       "      <td>page_content='Diagnosis Description\\nTreatment...</td>\n",
       "      <td>The primary goal of holistic medicine, as desc...</td>\n",
       "    </tr>\n",
       "    <tr>\n",
       "      <th>21</th>\n",
       "      <td>What is the primary difference between traditi...</td>\n",
       "      <td>page_content='cine. The Gale Encyclopedia of M...</td>\n",
       "      <td>Traditional Chinese medicine focuses on restor...</td>\n",
       "    </tr>\n",
       "    <tr>\n",
       "      <th>22</th>\n",
       "      <td>What is the primary role of the general adviso...</td>\n",
       "      <td>page_content='INCLUSION CRITERIA\\nA preliminar...</td>\n",
       "      <td>The primary role of the general advisory board...</td>\n",
       "    </tr>\n",
       "    <tr>\n",
       "      <th>23</th>\n",
       "      <td>What role did the final selection of topics pl...</td>\n",
       "      <td>page_content='by category and sent to GEM2 med...</td>\n",
       "      <td>The final selection of topics played a crucial...</td>\n",
       "    </tr>\n",
       "    <tr>\n",
       "      <th>24</th>\n",
       "      <td>What is the primary design consideration for T...</td>\n",
       "      <td>page_content='reviewed the completed essays to...</td>\n",
       "      <td>The primary design consideration for The Gale ...</td>\n",
       "    </tr>\n",
       "    <tr>\n",
       "      <th>25</th>\n",
       "      <td>What are the benefits of including a list of k...</td>\n",
       "      <td>page_content='• Cross-references placed throug...</td>\n",
       "      <td>Including a list of key terms to define unfami...</td>\n",
       "    </tr>\n",
       "    <tr>\n",
       "      <th>26</th>\n",
       "      <td>What is the primary purpose of the appendix in...</td>\n",
       "      <td>page_content='appendix contains an extensive l...</td>\n",
       "      <td>The primary purpose of the appendix in this me...</td>\n",
       "    </tr>\n",
       "    <tr>\n",
       "      <th>27</th>\n",
       "      <td>What is the role of Richard Adrouny, M.D., in ...</td>\n",
       "      <td>page_content='MEDICAL ADVISORS\\nA. Richard Adr...</td>\n",
       "      <td>Richard Adrouny, M.D., serves as a Clinical As...</td>\n",
       "    </tr>\n",
       "    <tr>\n",
       "      <th>28</th>\n",
       "      <td>What is the title of Dr. Laith F. Gulli's acad...</td>\n",
       "      <td>page_content='Rosalyn Carson-DeWitt, M.D.\\nDur...</td>\n",
       "      <td>Laith F. Gulli's academic credentials include ...</td>\n",
       "    </tr>\n",
       "    <tr>\n",
       "      <th>29</th>\n",
       "      <td>What is the role of Dr. Ira Michelson in the m...</td>\n",
       "      <td>page_content='Larry I. Lutwick M.D., F.A.C.P.\\...</td>\n",
       "      <td>Dr. Ira Michelson is a Physician and Clinical ...</td>\n",
       "    </tr>\n",
       "  </tbody>\n",
       "</table>\n",
       "</div>"
      ],
      "text/plain": [
       "                                             question  \\\n",
       "0   What is the primary function of the GALE ENCYC...   \n",
       "1   What is the role of an Editor in a medical enc...   \n",
       "2   What is the role of a Project Manager in the c...   \n",
       "3   Who is the Senior Editor of Imaging and Multim...   \n",
       "4   What is the role of a Permissions Manager in a...   \n",
       "5   What is the purpose of including an extension ...   \n",
       "6   What type of paper does the book use, as menti...   \n",
       "7   What is the specific standard for paper perman...   \n",
       "8   What is the purpose of adding value to the und...   \n",
       "9   What is the name of the publisher mentioned in...   \n",
       "10  What is the primary topic covered in this medi...   \n",
       "11    What is the title of this medical encyclopedia?   \n",
       "12  What is the purpose of listing contributors in...   \n",
       "13  What is the purpose of Volume 5 in this medica...   \n",
       "14  What is the intended purpose of The Gale Encyc...   \n",
       "15  What is the purpose of including a disclaimer ...   \n",
       "16  What is the primary purpose of the disclaimer ...   \n",
       "17  What is the primary purpose of the Gale Encycl...   \n",
       "18  What is the primary difference between Medicin...   \n",
       "19  What is the purpose of including sidebar biogr...   \n",
       "20  What is the primary goal of holistic medicine,...   \n",
       "21  What is the primary difference between traditi...   \n",
       "22  What is the primary role of the general adviso...   \n",
       "23  What role did the final selection of topics pl...   \n",
       "24  What is the primary design consideration for T...   \n",
       "25  What are the benefits of including a list of k...   \n",
       "26  What is the primary purpose of the appendix in...   \n",
       "27  What is the role of Richard Adrouny, M.D., in ...   \n",
       "28  What is the title of Dr. Laith F. Gulli's acad...   \n",
       "29  What is the role of Dr. Ira Michelson in the m...   \n",
       "\n",
       "                                              context  \\\n",
       "0   page_content='The GALE\\nENCYCLOPEDIA\\nof MEDIC...   \n",
       "1   page_content='The GALE\\nENCYCLOPEDIA\\nof MEDIC...   \n",
       "2   page_content='STAFF\\nJacqueline L. Longe, Proj...   \n",
       "3   page_content='Multimedia Content\\nDean Dauphin...   \n",
       "4   page_content='Maria Franklin, Permissions Mana...   \n",
       "5   page_content='of MEDICINE\\nSECOND EDITION\\nSin...   \n",
       "6   page_content='ty for errors, omissions or disc...   \n",
       "7   page_content='This book is printed on recycled...   \n",
       "8   page_content='petition, and other applicable l...   \n",
       "9   page_content='Copyright © 2002\\nGale Group\\n27...   \n",
       "10  page_content='Gale encyclopedia of medicine / ...   \n",
       "11  page_content='(vol. 5)\\n1. Internal medicine—E...   \n",
       "12  page_content='Introduction.......................   \n",
       "13  page_content='Volume 4: N-S......................   \n",
       "14  page_content='The Gale Encyclopedia of Medicin...   \n",
       "15  page_content='Group has made substantial effor...   \n",
       "16  page_content='should be aware that the univers...   \n",
       "17  page_content='The Gale Encyclopedia of Medicin...   \n",
       "18  page_content='Medicine 2 fills a gap between b...   \n",
       "19  page_content='parentheses, eg. acetaminophen (...   \n",
       "20  page_content='Diagnosis Description\\nTreatment...   \n",
       "21  page_content='cine. The Gale Encyclopedia of M...   \n",
       "22  page_content='INCLUSION CRITERIA\\nA preliminar...   \n",
       "23  page_content='by category and sent to GEM2 med...   \n",
       "24  page_content='reviewed the completed essays to...   \n",
       "25  page_content='• Cross-references placed throug...   \n",
       "26  page_content='appendix contains an extensive l...   \n",
       "27  page_content='MEDICAL ADVISORS\\nA. Richard Adr...   \n",
       "28  page_content='Rosalyn Carson-DeWitt, M.D.\\nDur...   \n",
       "29  page_content='Larry I. Lutwick M.D., F.A.C.P.\\...   \n",
       "\n",
       "                                         ground_truth  \n",
       "0   The GALE ENCYCLOPEDIA OF MEDICINE, SECOND EDIT...  \n",
       "1   The Editor is responsible for overseeing the c...  \n",
       "2   The Project Manager is responsible for oversee...  \n",
       "3                                     Dean Dauphinais  \n",
       "4   The role of a Permissions Manager in a publish...  \n",
       "5   The purpose of including an extension of the c...  \n",
       "6                                            recycled  \n",
       "7                                    ANSI Z39.48-1984  \n",
       "8   The purpose of adding value to the underlying ...  \n",
       "9                                          Gale Group  \n",
       "10                                  Internal medicine  \n",
       "11                    Internal medicine—Encyclopedias  \n",
       "12  The purpose of listing contributors in a medic...  \n",
       "13  The purpose of Volume 5 in this medical encycl...  \n",
       "14  The intended purpose of The Gale Encyclopedia ...  \n",
       "15  The disclaimer serves to limit the liability o...  \n",
       "16  The primary purpose of the disclaimer in this ...  \n",
       "17  The primary purpose of the Gale Encyclopedia o...  \n",
       "18  The primary difference is that Medicine 2 prov...  \n",
       "19  The purpose of including sidebar biographies i...  \n",
       "20  The primary goal of holistic medicine, as desc...  \n",
       "21  Traditional Chinese medicine focuses on restor...  \n",
       "22  The primary role of the general advisory board...  \n",
       "23  The final selection of topics played a crucial...  \n",
       "24  The primary design consideration for The Gale ...  \n",
       "25  Including a list of key terms to define unfami...  \n",
       "26  The primary purpose of the appendix in this me...  \n",
       "27  Richard Adrouny, M.D., serves as a Clinical As...  \n",
       "28  Laith F. Gulli's academic credentials include ...  \n",
       "29  Dr. Ira Michelson is a Physician and Clinical ...  "
      ]
     },
     "execution_count": 31,
     "metadata": {},
     "output_type": "execute_result"
    }
   ],
   "source": [
    "import pandas as pd\n",
    "from datasets import Dataset\n",
    "\n",
    "ground_truth_qac_set = pd.DataFrame(qac_triples)\n",
    "ground_truth_qac_set[\"context\"] = ground_truth_qac_set[\"context\"].map(lambda x: str(x))\n",
    "ground_truth_qac_set = ground_truth_qac_set.rename(columns={\"answer\" : \"ground_truth\"})\n",
    "ground_truth_qac_set = ground_truth_qac_set.drop(columns=[\"additional_kwargs\", \"response_metadata\"]) ##droping irrelavant column\n",
    "\n",
    "\n",
    "\n",
    "eval_dataset = Dataset.from_pandas(ground_truth_qac_set)\n",
    "ground_truth_qac_set\n"
   ]
  },
  {
   "cell_type": "code",
   "execution_count": 32,
   "id": "df5224f3",
   "metadata": {},
   "outputs": [
    {
     "data": {
      "text/plain": [
       "Dataset({\n",
       "    features: ['question', 'context', 'ground_truth'],\n",
       "    num_rows: 30\n",
       "})"
      ]
     },
     "execution_count": 32,
     "metadata": {},
     "output_type": "execute_result"
    }
   ],
   "source": [
    "eval_dataset"
   ]
  },
  {
   "cell_type": "code",
   "execution_count": 33,
   "id": "5ced33e7",
   "metadata": {},
   "outputs": [
    {
     "data": {
      "text/plain": [
       "{'question': 'What is the primary function of the GALE ENCYCLOPEDIA OF MEDICINE, SECOND EDITION?',\n",
       " 'context': \"page_content='The GALE\\nENCYCLOPEDIA\\nof MEDICINE\\nSECOND EDITION' metadata={'source': 'data/Medical_book.pdf', 'page': 1}\",\n",
       " 'ground_truth': 'The GALE ENCYCLOPEDIA OF MEDICINE, SECOND EDITION is a comprehensive reference work that provides in-depth information on various medical topics, including diseases, treatments, and health-related issues. Its primary function is to serve as a reliable source of medical knowledge for healthcare professionals, students, and the general public.'}"
      ]
     },
     "execution_count": 33,
     "metadata": {},
     "output_type": "execute_result"
    }
   ],
   "source": [
    "eval_dataset[0]"
   ]
  },
  {
   "cell_type": "markdown",
   "id": "b8483bbf",
   "metadata": {},
   "source": [
    "### save the qus-ans-context dataset in a file"
   ]
  },
  {
   "cell_type": "code",
   "execution_count": 34,
   "id": "e2229790",
   "metadata": {},
   "outputs": [
    {
     "name": "stderr",
     "output_type": "stream",
     "text": [
      "Creating CSV from Arrow format: 100%|██████████| 1/1 [00:00<00:00, 97.67ba/s]\n"
     ]
    },
    {
     "data": {
      "text/plain": [
       "25092"
      ]
     },
     "execution_count": 34,
     "metadata": {},
     "output_type": "execute_result"
    }
   ],
   "source": [
    "eval_dataset.to_csv(\"groundtruth_eval_dataset.csv\")"
   ]
  },
  {
   "cell_type": "markdown",
   "id": "816103c7",
   "metadata": {},
   "source": [
    "## Let's Evaluate our RAG Pipelines:\n",
    "\n",
    "### Now we can evaluate using RAGAS!\n",
    "\n",
    "###### The set-up is fairly straightforward - we simply need to create a dataset with our generated answers and our contexts, and then evaluate using the framework."
   ]
  },
  {
   "cell_type": "code",
   "execution_count": 63,
   "id": "153a0796",
   "metadata": {},
   "outputs": [],
   "source": [
    "from ragas.metrics import (\n",
    "    context_precision,\n",
    "    context_recall,\n",
    "    ContextEntityRecall,\n",
    "    NoiseSensitivity,\n",
    "    ResponseRelevancy,\n",
    "    Faithfulness,\n",
    "    answer_relevancy,\n",
    "    faithfulness,\n",
    "    # context_relevancy,\n",
    "    answer_correctness,\n",
    "    answer_similarity\n",
    ")\n",
    "\n",
    "from ragas import evaluate\n",
    "\n",
    "def create_ragas_dataset(rag_pipeline, eval_dataset):\n",
    "  rag_dataset = []\n",
    "  for row in tqdm(eval_dataset):\n",
    "    answer = rag_pipeline.invoke({\"question\" : row[\"question\"]})\n",
    "    # print('answer_res', answer[\"response\"])\n",
    "    rag_dataset.append(\n",
    "        {\"question\" : row[\"question\"],\n",
    "         \"answer\" : answer[\"response\"],\n",
    "         \"contexts\" : [context.page_content for context in answer[\"context\"]],\n",
    "         \"reference\" : row[\"ground_truth\"]\n",
    "         }\n",
    "    )\n",
    "  rag_df = pd.DataFrame(rag_dataset)\n",
    "  rag_eval_dataset = Dataset.from_pandas(rag_df)\n",
    "  return rag_eval_dataset\n",
    "\n",
    "def evaluate_ragas_dataset(ragas_dataset):\n",
    "  result = evaluate(\n",
    "    ragas_dataset,\n",
    "    metrics=[\n",
    "        context_precision,\n",
    "        faithfulness,\n",
    "        answer_relevancy,\n",
    "        context_recall,\n",
    "        # context_relevancy,\n",
    "        answer_correctness,\n",
    "        answer_similarity\n",
    "    ],\n",
    "  )\n",
    "  return result"
   ]
  },
  {
   "cell_type": "code",
   "execution_count": 64,
   "id": "e7894f99",
   "metadata": {},
   "outputs": [
    {
     "name": "stderr",
     "output_type": "stream",
     "text": [
      "100%|██████████| 30/30 [04:13<00:00,  8.46s/it]\n"
     ]
    }
   ],
   "source": [
    "basic_qa_ragas_dataset = create_ragas_dataset(retrieval_augmented_qa_chain, eval_dataset)"
   ]
  },
  {
   "cell_type": "code",
   "execution_count": 65,
   "id": "4d31248a",
   "metadata": {},
   "outputs": [
    {
     "data": {
      "text/plain": [
       "Dataset({\n",
       "    features: ['question', 'answer', 'contexts', 'reference'],\n",
       "    num_rows: 30\n",
       "})"
      ]
     },
     "execution_count": 65,
     "metadata": {},
     "output_type": "execute_result"
    }
   ],
   "source": [
    "basic_qa_ragas_dataset"
   ]
  },
  {
   "cell_type": "code",
   "execution_count": 66,
   "id": "7f56a6dd",
   "metadata": {},
   "outputs": [
    {
     "data": {
      "text/plain": [
       "{'question': 'What is the primary function of the GALE ENCYCLOPEDIA OF MEDICINE, SECOND EDITION?',\n",
       " 'answer': 'The primary function of the GALE ENCYCLOPEDIA OF MEDICINE, SECOND EDITION is to inform and educate readers about a wide variety of medical disorders, conditions, treatments, and diagnostic tests. It provides comprehensive information on nearly 1,700 common medical topics in an easy-to-understand format. The encyclopedia is designed to supplement consultation with a physician or other healthcare practitioner.',\n",
       " 'contexts': ['The GALE\\nENCYCLOPEDIA\\nof MEDICINE\\nSECOND EDITION',\n",
       "  'The Gale Encyclopedia of Medicine 2is a medical ref-\\nerence product designed to inform and educate readers\\nabout a wide variety of disorders, conditions, treatments,\\nand diagnostic tests. The Gale Group believes the product\\nto be comprehensive, but not necessarily definitive. It is\\nintended to supplement, not replace, consultation with a\\nphysician or other healthcare practitioner. While the Gale\\nGroup has made substantial efforts to provide information',\n",
       "  'The GALE\\nENCYCLOPEDIA\\nof MEDICINE\\nSECOND EDITION\\nJACQUELINE L. LONGE, EDITOR\\nDEIRDRE S. BLANCHFIELD, ASSOCIATE EDITOR\\nVOLUME\\nA-B\\n1',\n",
       "  'appendix contains an extensive list of organizations\\narranged in alphabetical order.\\n• Resources section directs users to additional sources\\nof medical information on a topic.\\n• A comprehensive general index allows users to easily\\ntarget detailed aspects of any topic, including Latin\\nnames.\\nGRAPHICS\\nThe Gale Encyclopedia of Medicine 2 is enhanced\\nwith over 675 color images, including photos, charts,\\ntables, and customized line drawings.\\nGALE ENCYCLOPEDIA OF MEDICINE 2X\\nIntroduction',\n",
       "  'The Gale Encyclopedia of Medicine 2 (GEM2) is a\\none-stop source for medical information on nearly 1,700\\ncommon medical disorders, conditions, tests, and treat-\\nments, including high-profile diseases such as AIDS,\\nAlzheimer’s disease, cancer, and heart attack. This ency-\\nclopedia avoids medical jargon and uses language that\\nlaypersons can understand, while still providing thor-\\nough coverage of each topic. The Gale Encyclopedia of\\nMedicine 2 fills a gap between basic consumer health',\n",
       "  'reviewed the completed essays to insure that they are\\nappropriate, up-to-date, and medically accurate.\\nHOW TO USE THIS BOOK\\nThe Gale Encyclopedia of Medicine 2 has been\\ndesigned with ready reference in mind.\\n• Straight alphabetical arrangement allows users to\\nlocate information quickly.\\n• Bold-faced terms function as print hyperlinks that\\npoint the reader to related entries in the encyclopedia.\\nGALE ENCYCLOPEDIA OF MEDICINE 2 IX\\nINTRODUCTION',\n",
       "  'Medicine 2 fills a gap between basic consumer health\\nresources, such as single-volume family medical guides,\\nand highly technical professional materials.\\nSCOPE\\nAlmost 1,700 full-length articles are included in the\\nGale Encyclopedia of Medicine 2 , including disorders/\\nconditions, tests/procedures, and treatments/therapies.\\nMany common drugs are also covered, with generic drug\\nnames appearing first and brand names following in\\nparentheses, eg. acetaminophen (Tylenol). Throughout',\n",
       "  'cine. The Gale Encyclopedia of Medicine 2 includes a\\nnumber of essays on alternative therapies, ranging from\\ntraditional Chinese medicine to homeopathy and from\\nmeditation to aromatherapy. In addition to full essays on\\nalternative therapies, the encyclopedia features specific\\nAlternative treatment sections for diseases and condi-\\ntions that may be helped by complementary therapies.\\nINCLUSION CRITERIA\\nA preliminary list of diseases, disorders, tests and treat-'],\n",
       " 'reference': 'The GALE ENCYCLOPEDIA OF MEDICINE, SECOND EDITION is a comprehensive reference work that provides in-depth information on various medical topics, including diseases, treatments, and health-related issues. Its primary function is to serve as a reliable source of medical knowledge for healthcare professionals, students, and the general public.'}"
      ]
     },
     "execution_count": 66,
     "metadata": {},
     "output_type": "execute_result"
    }
   ],
   "source": [
    "basic_qa_ragas_dataset[0]"
   ]
  },
  {
   "cell_type": "markdown",
   "id": "46400ff8",
   "metadata": {},
   "source": [
    "### Save it for later : (qus,context,groundTruth and answer)"
   ]
  },
  {
   "cell_type": "code",
   "execution_count": 67,
   "id": "7c0613a1",
   "metadata": {},
   "outputs": [
    {
     "name": "stderr",
     "output_type": "stream",
     "text": [
      "Creating CSV from Arrow format: 100%|██████████| 1/1 [00:00<00:00, 199.05ba/s]\n"
     ]
    },
    {
     "data": {
      "text/plain": [
       "128666"
      ]
     },
     "execution_count": 67,
     "metadata": {},
     "output_type": "execute_result"
    }
   ],
   "source": [
    "basic_qa_ragas_dataset.to_csv(\"basic_qa_ragas_dataset.csv\")"
   ]
  },
  {
   "cell_type": "code",
   "execution_count": 69,
   "id": "1aae48bf",
   "metadata": {},
   "outputs": [
    {
     "ename": "OpenAIError",
     "evalue": "The api_key client option must be set either by passing api_key to the client or by setting the OPENAI_API_KEY environment variable",
     "output_type": "error",
     "traceback": [
      "\u001b[31m---------------------------------------------------------------------------\u001b[39m",
      "\u001b[31mOpenAIError\u001b[39m                               Traceback (most recent call last)",
      "\u001b[36mCell\u001b[39m\u001b[36m \u001b[39m\u001b[32mIn[69]\u001b[39m\u001b[32m, line 1\u001b[39m\n\u001b[32m----> \u001b[39m\u001b[32m1\u001b[39m basic_qa_result = \u001b[43mevaluate_ragas_dataset\u001b[49m\u001b[43m(\u001b[49m\u001b[43mbasic_qa_ragas_dataset\u001b[49m\u001b[43m)\u001b[49m\n",
      "\u001b[36mCell\u001b[39m\u001b[36m \u001b[39m\u001b[32mIn[63]\u001b[39m\u001b[32m, line 34\u001b[39m, in \u001b[36mevaluate_ragas_dataset\u001b[39m\u001b[34m(ragas_dataset)\u001b[39m\n\u001b[32m     33\u001b[39m \u001b[38;5;28;01mdef\u001b[39;00m\u001b[38;5;250m \u001b[39m\u001b[34mevaluate_ragas_dataset\u001b[39m(ragas_dataset):\n\u001b[32m---> \u001b[39m\u001b[32m34\u001b[39m   result = \u001b[43mevaluate\u001b[49m\u001b[43m(\u001b[49m\n\u001b[32m     35\u001b[39m \u001b[43m    \u001b[49m\u001b[43mragas_dataset\u001b[49m\u001b[43m,\u001b[49m\n\u001b[32m     36\u001b[39m \u001b[43m    \u001b[49m\u001b[43mmetrics\u001b[49m\u001b[43m=\u001b[49m\u001b[43m[\u001b[49m\n\u001b[32m     37\u001b[39m \u001b[43m        \u001b[49m\u001b[43mcontext_precision\u001b[49m\u001b[43m,\u001b[49m\n\u001b[32m     38\u001b[39m \u001b[43m        \u001b[49m\u001b[43mfaithfulness\u001b[49m\u001b[43m,\u001b[49m\n\u001b[32m     39\u001b[39m \u001b[43m        \u001b[49m\u001b[43manswer_relevancy\u001b[49m\u001b[43m,\u001b[49m\n\u001b[32m     40\u001b[39m \u001b[43m        \u001b[49m\u001b[43mcontext_recall\u001b[49m\u001b[43m,\u001b[49m\n\u001b[32m     41\u001b[39m \u001b[43m        \u001b[49m\u001b[38;5;66;43;03m# context_relevancy,\u001b[39;49;00m\n\u001b[32m     42\u001b[39m \u001b[43m        \u001b[49m\u001b[43manswer_correctness\u001b[49m\u001b[43m,\u001b[49m\n\u001b[32m     43\u001b[39m \u001b[43m        \u001b[49m\u001b[43manswer_similarity\u001b[49m\n\u001b[32m     44\u001b[39m \u001b[43m    \u001b[49m\u001b[43m]\u001b[49m\u001b[43m,\u001b[49m\n\u001b[32m     45\u001b[39m \u001b[43m  \u001b[49m\u001b[43m)\u001b[49m\n\u001b[32m     46\u001b[39m   \u001b[38;5;28;01mreturn\u001b[39;00m result\n",
      "\u001b[36mFile \u001b[39m\u001b[32m/opt/anaconda3/envs/medical/lib/python3.12/site-packages/ragas/_analytics.py:227\u001b[39m, in \u001b[36mtrack_was_completed.<locals>.wrapper\u001b[39m\u001b[34m(*args, **kwargs)\u001b[39m\n\u001b[32m    224\u001b[39m \u001b[38;5;129m@wraps\u001b[39m(func)\n\u001b[32m    225\u001b[39m \u001b[38;5;28;01mdef\u001b[39;00m\u001b[38;5;250m \u001b[39m\u001b[34mwrapper\u001b[39m(*args: P.args, **kwargs: P.kwargs) -> t.Any:\n\u001b[32m    226\u001b[39m     track(IsCompleteEvent(event_type=func.\u001b[34m__name__\u001b[39m, is_completed=\u001b[38;5;28;01mFalse\u001b[39;00m))\n\u001b[32m--> \u001b[39m\u001b[32m227\u001b[39m     result = \u001b[43mfunc\u001b[49m\u001b[43m(\u001b[49m\u001b[43m*\u001b[49m\u001b[43margs\u001b[49m\u001b[43m,\u001b[49m\u001b[43m \u001b[49m\u001b[43m*\u001b[49m\u001b[43m*\u001b[49m\u001b[43mkwargs\u001b[49m\u001b[43m)\u001b[49m\n\u001b[32m    228\u001b[39m     track(IsCompleteEvent(event_type=func.\u001b[34m__name__\u001b[39m, is_completed=\u001b[38;5;28;01mTrue\u001b[39;00m))\n\u001b[32m    230\u001b[39m     \u001b[38;5;28;01mreturn\u001b[39;00m result\n",
      "\u001b[36mFile \u001b[39m\u001b[32m/opt/anaconda3/envs/medical/lib/python3.12/site-packages/ragas/evaluation.py:198\u001b[39m, in \u001b[36mevaluate\u001b[39m\u001b[34m(dataset, metrics, llm, embeddings, experiment_name, callbacks, run_config, token_usage_parser, raise_exceptions, column_map, show_progress, batch_size, _run_id, _pbar)\u001b[39m\n\u001b[32m    196\u001b[39m \u001b[38;5;28;01mif\u001b[39;00m \u001b[38;5;28misinstance\u001b[39m(metric, MetricWithLLM) \u001b[38;5;129;01mand\u001b[39;00m metric.llm \u001b[38;5;129;01mis\u001b[39;00m \u001b[38;5;28;01mNone\u001b[39;00m:\n\u001b[32m    197\u001b[39m     \u001b[38;5;28;01mif\u001b[39;00m llm \u001b[38;5;129;01mis\u001b[39;00m \u001b[38;5;28;01mNone\u001b[39;00m:\n\u001b[32m--> \u001b[39m\u001b[32m198\u001b[39m         llm = \u001b[43mllm_factory\u001b[49m\u001b[43m(\u001b[49m\u001b[43m)\u001b[49m\n\u001b[32m    199\u001b[39m     metric.llm = llm\n\u001b[32m    200\u001b[39m     llm_changed.append(i)\n",
      "\u001b[36mFile \u001b[39m\u001b[32m/opt/anaconda3/envs/medical/lib/python3.12/site-packages/ragas/llms/base.py:416\u001b[39m, in \u001b[36mllm_factory\u001b[39m\u001b[34m(model, run_config, default_headers, base_url)\u001b[39m\n\u001b[32m    413\u001b[39m     default_headers = helicone_config.default_headers()\n\u001b[32m    414\u001b[39m     base_url = helicone_config.base_url\n\u001b[32m--> \u001b[39m\u001b[32m416\u001b[39m openai_model = \u001b[43mChatOpenAI\u001b[49m\u001b[43m(\u001b[49m\n\u001b[32m    417\u001b[39m \u001b[43m    \u001b[49m\u001b[43mmodel\u001b[49m\u001b[43m=\u001b[49m\u001b[43mmodel\u001b[49m\u001b[43m,\u001b[49m\u001b[43m \u001b[49m\u001b[43mtimeout\u001b[49m\u001b[43m=\u001b[49m\u001b[43mtimeout\u001b[49m\u001b[43m,\u001b[49m\u001b[43m \u001b[49m\u001b[43mdefault_headers\u001b[49m\u001b[43m=\u001b[49m\u001b[43mdefault_headers\u001b[49m\u001b[43m,\u001b[49m\u001b[43m \u001b[49m\u001b[43mbase_url\u001b[49m\u001b[43m=\u001b[49m\u001b[43mbase_url\u001b[49m\n\u001b[32m    418\u001b[39m \u001b[43m\u001b[49m\u001b[43m)\u001b[49m\n\u001b[32m    419\u001b[39m \u001b[38;5;28;01mreturn\u001b[39;00m LangchainLLMWrapper(openai_model, run_config)\n",
      "\u001b[36mFile \u001b[39m\u001b[32m/opt/anaconda3/envs/medical/lib/python3.12/site-packages/langchain_core/load/serializable.py:130\u001b[39m, in \u001b[36mSerializable.__init__\u001b[39m\u001b[34m(self, *args, **kwargs)\u001b[39m\n\u001b[32m    128\u001b[39m \u001b[38;5;28;01mdef\u001b[39;00m\u001b[38;5;250m \u001b[39m\u001b[34m__init__\u001b[39m(\u001b[38;5;28mself\u001b[39m, *args: Any, **kwargs: Any) -> \u001b[38;5;28;01mNone\u001b[39;00m:\n\u001b[32m    129\u001b[39m \u001b[38;5;250m    \u001b[39m\u001b[33;03m\"\"\"\"\"\"\u001b[39;00m  \u001b[38;5;66;03m# noqa: D419\u001b[39;00m\n\u001b[32m--> \u001b[39m\u001b[32m130\u001b[39m     \u001b[38;5;28;43msuper\u001b[39;49m\u001b[43m(\u001b[49m\u001b[43m)\u001b[49m\u001b[43m.\u001b[49m\u001b[34;43m__init__\u001b[39;49m\u001b[43m(\u001b[49m\u001b[43m*\u001b[49m\u001b[43margs\u001b[49m\u001b[43m,\u001b[49m\u001b[43m \u001b[49m\u001b[43m*\u001b[49m\u001b[43m*\u001b[49m\u001b[43mkwargs\u001b[49m\u001b[43m)\u001b[49m\n",
      "    \u001b[31m[... skipping hidden 1 frame]\u001b[39m\n",
      "\u001b[36mFile \u001b[39m\u001b[32m/opt/anaconda3/envs/medical/lib/python3.12/site-packages/langchain_openai/chat_models/base.py:690\u001b[39m, in \u001b[36mBaseChatOpenAI.validate_environment\u001b[39m\u001b[34m(self)\u001b[39m\n\u001b[32m    683\u001b[39m         \u001b[38;5;28mself\u001b[39m.http_client = httpx.Client(\n\u001b[32m    684\u001b[39m             proxy=\u001b[38;5;28mself\u001b[39m.openai_proxy, verify=global_ssl_context\n\u001b[32m    685\u001b[39m         )\n\u001b[32m    686\u001b[39m     sync_specific = {\n\u001b[32m    687\u001b[39m         \u001b[33m\"\u001b[39m\u001b[33mhttp_client\u001b[39m\u001b[33m\"\u001b[39m: \u001b[38;5;28mself\u001b[39m.http_client\n\u001b[32m    688\u001b[39m         \u001b[38;5;129;01mor\u001b[39;00m _get_default_httpx_client(\u001b[38;5;28mself\u001b[39m.openai_api_base, \u001b[38;5;28mself\u001b[39m.request_timeout)\n\u001b[32m    689\u001b[39m     }\n\u001b[32m--> \u001b[39m\u001b[32m690\u001b[39m     \u001b[38;5;28mself\u001b[39m.root_client = \u001b[43mopenai\u001b[49m\u001b[43m.\u001b[49m\u001b[43mOpenAI\u001b[49m\u001b[43m(\u001b[49m\u001b[43m*\u001b[49m\u001b[43m*\u001b[49m\u001b[43mclient_params\u001b[49m\u001b[43m,\u001b[49m\u001b[43m \u001b[49m\u001b[43m*\u001b[49m\u001b[43m*\u001b[49m\u001b[43msync_specific\u001b[49m\u001b[43m)\u001b[49m  \u001b[38;5;66;03m# type: ignore[arg-type]\u001b[39;00m\n\u001b[32m    691\u001b[39m     \u001b[38;5;28mself\u001b[39m.client = \u001b[38;5;28mself\u001b[39m.root_client.chat.completions\n\u001b[32m    692\u001b[39m \u001b[38;5;28;01mif\u001b[39;00m \u001b[38;5;129;01mnot\u001b[39;00m \u001b[38;5;28mself\u001b[39m.async_client:\n",
      "\u001b[36mFile \u001b[39m\u001b[32m/opt/anaconda3/envs/medical/lib/python3.12/site-packages/openai/_client.py:130\u001b[39m, in \u001b[36mOpenAI.__init__\u001b[39m\u001b[34m(self, api_key, organization, project, webhook_secret, base_url, websocket_base_url, timeout, max_retries, default_headers, default_query, http_client, _strict_response_validation)\u001b[39m\n\u001b[32m    128\u001b[39m     api_key = os.environ.get(\u001b[33m\"\u001b[39m\u001b[33mOPENAI_API_KEY\u001b[39m\u001b[33m\"\u001b[39m)\n\u001b[32m    129\u001b[39m \u001b[38;5;28;01mif\u001b[39;00m api_key \u001b[38;5;129;01mis\u001b[39;00m \u001b[38;5;28;01mNone\u001b[39;00m:\n\u001b[32m--> \u001b[39m\u001b[32m130\u001b[39m     \u001b[38;5;28;01mraise\u001b[39;00m OpenAIError(\n\u001b[32m    131\u001b[39m         \u001b[33m\"\u001b[39m\u001b[33mThe api_key client option must be set either by passing api_key to the client or by setting the OPENAI_API_KEY environment variable\u001b[39m\u001b[33m\"\u001b[39m\n\u001b[32m    132\u001b[39m     )\n\u001b[32m    133\u001b[39m \u001b[38;5;28mself\u001b[39m.api_key = api_key\n\u001b[32m    135\u001b[39m \u001b[38;5;28;01mif\u001b[39;00m organization \u001b[38;5;129;01mis\u001b[39;00m \u001b[38;5;28;01mNone\u001b[39;00m:\n",
      "\u001b[31mOpenAIError\u001b[39m: The api_key client option must be set either by passing api_key to the client or by setting the OPENAI_API_KEY environment variable"
     ]
    }
   ],
   "source": [
    "basic_qa_result = evaluate_ragas_dataset(basic_qa_ragas_dataset)"
   ]
  },
  {
   "cell_type": "code",
   "execution_count": null,
   "id": "37aeeeef",
   "metadata": {},
   "outputs": [],
   "source": []
  }
 ],
 "metadata": {
  "kernelspec": {
   "display_name": "medical",
   "language": "python",
   "name": "python3"
  },
  "language_info": {
   "codemirror_mode": {
    "name": "ipython",
    "version": 3
   },
   "file_extension": ".py",
   "mimetype": "text/x-python",
   "name": "python",
   "nbconvert_exporter": "python",
   "pygments_lexer": "ipython3",
   "version": "3.12.11"
  }
 },
 "nbformat": 4,
 "nbformat_minor": 5
}
